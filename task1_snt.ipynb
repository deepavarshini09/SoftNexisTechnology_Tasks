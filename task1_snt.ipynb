{
  "nbformat": 4,
  "nbformat_minor": 0,
  "metadata": {
    "colab": {
      "provenance": [],
      "toc_visible": true,
      "authorship_tag": "ABX9TyNrZ9CNgL+IgTb0P83Egz4k",
      "include_colab_link": true
    },
    "kernelspec": {
      "name": "python3",
      "display_name": "Python 3"
    },
    "language_info": {
      "name": "python"
    }
  },
  "cells": [
    {
      "cell_type": "markdown",
      "metadata": {
        "id": "view-in-github",
        "colab_type": "text"
      },
      "source": [
        "<a href=\"https://colab.research.google.com/github/deepavarshini09/SoftNexisTechnology_Tasks/blob/main/task1_snt.ipynb\" target=\"_parent\"><img src=\"https://colab.research.google.com/assets/colab-badge.svg\" alt=\"Open In Colab\"/></a>"
      ]
    },
    {
      "cell_type": "markdown",
      "source": [
        "# Beginner-Friendly Datasets (3)"
      ],
      "metadata": {
        "id": "YIPX-_Fpb3TT"
      }
    },
    {
      "cell_type": "markdown",
      "source": [
        "## 1. Customers Dataset\n",
        "○ Description: Simulated e-commerce customer records with duplicates, missing IDs, inconsistent formatting (names, dates, regions), and invalid entries.\n",
        "\n",
        "○ Size: 100–2M records.\n"
      ],
      "metadata": {
        "id": "3dTTgSp-cCD2"
      }
    },
    {
      "cell_type": "code",
      "source": [
        "# uploaded the required dataset through file section (temporary)"
      ],
      "metadata": {
        "id": "NibPg_uxcaru"
      },
      "execution_count": null,
      "outputs": []
    },
    {
      "cell_type": "code",
      "source": [
        "#import necessary libraries\n",
        "import pandas as pd"
      ],
      "metadata": {
        "id": "0To7B4ljcqWT"
      },
      "execution_count": 1,
      "outputs": []
    },
    {
      "cell_type": "markdown",
      "source": [
        "(1) DATA INGESTION:"
      ],
      "metadata": {
        "id": "gINEIFycefw8"
      }
    },
    {
      "cell_type": "code",
      "source": [
        "# Load data\n",
        "df = pd.read_csv(\"customers-100.csv\")"
      ],
      "metadata": {
        "id": "b57ho8wDcxnk"
      },
      "execution_count": 2,
      "outputs": []
    },
    {
      "cell_type": "code",
      "source": [
        "# Basic Details Check\n",
        "print(\"Shape:\", df.shape)\n",
        "print(\"\\nBasic Info:\")\n",
        "print(df.info())\n",
        "print(\"\\nMissing values per column:\\n\", df.isna().sum())"
      ],
      "metadata": {
        "colab": {
          "base_uri": "https://localhost:8080/"
        },
        "id": "b8se8qNic_3-",
        "outputId": "8e3aa8b4-693b-4858-bbd8-efd1e560b0db"
      },
      "execution_count": 3,
      "outputs": [
        {
          "output_type": "stream",
          "name": "stdout",
          "text": [
            "Shape: (100, 12)\n",
            "\n",
            "Basic Info:\n",
            "<class 'pandas.core.frame.DataFrame'>\n",
            "RangeIndex: 100 entries, 0 to 99\n",
            "Data columns (total 12 columns):\n",
            " #   Column             Non-Null Count  Dtype \n",
            "---  ------             --------------  ----- \n",
            " 0   Index              100 non-null    int64 \n",
            " 1   Customer Id        100 non-null    object\n",
            " 2   First Name         100 non-null    object\n",
            " 3   Last Name          100 non-null    object\n",
            " 4   Company            100 non-null    object\n",
            " 5   City               100 non-null    object\n",
            " 6   Country            100 non-null    object\n",
            " 7   Phone 1            100 non-null    object\n",
            " 8   Phone 2            100 non-null    object\n",
            " 9   Email              100 non-null    object\n",
            " 10  Subscription Date  100 non-null    object\n",
            " 11  Website            100 non-null    object\n",
            "dtypes: int64(1), object(11)\n",
            "memory usage: 9.5+ KB\n",
            "None\n",
            "\n",
            "Missing values per column:\n",
            " Index                0\n",
            "Customer Id          0\n",
            "First Name           0\n",
            "Last Name            0\n",
            "Company              0\n",
            "City                 0\n",
            "Country              0\n",
            "Phone 1              0\n",
            "Phone 2              0\n",
            "Email                0\n",
            "Subscription Date    0\n",
            "Website              0\n",
            "dtype: int64\n"
          ]
        }
      ]
    },
    {
      "cell_type": "markdown",
      "source": [
        "(2) DE-DUPLICATION"
      ],
      "metadata": {
        "id": "0KAFIGe2elf3"
      }
    },
    {
      "cell_type": "code",
      "source": [
        "# Check for exact duplicate rows\n",
        "duplicate_count = df.duplicated().sum()\n",
        "print(\"Number of duplicate rows:\", duplicate_count)"
      ],
      "metadata": {
        "colab": {
          "base_uri": "https://localhost:8080/"
        },
        "id": "rLtFKaaneXfX",
        "outputId": "d7d8403d-fdb1-4a17-a3fb-a7ed3b4ab878"
      },
      "execution_count": 4,
      "outputs": [
        {
          "output_type": "stream",
          "name": "stdout",
          "text": [
            "Number of duplicate rows: 0\n"
          ]
        }
      ]
    },
    {
      "cell_type": "code",
      "source": [
        "# No duplicates exists, yet implementing the drop duplicates, which won't have any effects\n",
        "# Drop duplicates only if they exist\n",
        "if duplicate_count > 0:\n",
        "    df = df.drop_duplicates()\n",
        "    print(\"Duplicates removed. New shape:\", df.shape)\n",
        "else:\n",
        "    print(\"No duplicates found. Proceeding without changes.\")"
      ],
      "metadata": {
        "colab": {
          "base_uri": "https://localhost:8080/"
        },
        "id": "kjPKW3TIeuoz",
        "outputId": "9a0fdc8c-2c74-4127-abeb-18bf74e6b9e0"
      },
      "execution_count": 5,
      "outputs": [
        {
          "output_type": "stream",
          "name": "stdout",
          "text": [
            "No duplicates found. Proceeding without changes.\n"
          ]
        }
      ]
    },
    {
      "cell_type": "markdown",
      "source": [
        "(3) COLUMN MANAGEMENT"
      ],
      "metadata": {
        "id": "BOsOfIqUfnuM"
      }
    },
    {
      "cell_type": "code",
      "source": [
        "# Drop irrelevant columns\n",
        "columns_to_drop = ['Index', 'Phone 2', 'Website']\n",
        "df = df.drop(columns=columns_to_drop, errors='ignore')"
      ],
      "metadata": {
        "id": "Aqb8cVBoevRW"
      },
      "execution_count": 6,
      "outputs": []
    },
    {
      "cell_type": "code",
      "source": [
        "for col in df.columns:\n",
        "    print(col)"
      ],
      "metadata": {
        "colab": {
          "base_uri": "https://localhost:8080/"
        },
        "id": "paRvsR0wBEoG",
        "outputId": "0ecea0d4-adcf-45d4-f7e7-53735074f426"
      },
      "execution_count": 8,
      "outputs": [
        {
          "output_type": "stream",
          "name": "stdout",
          "text": [
            "Customer Id\n",
            "First Name\n",
            "Last Name\n",
            "Company\n",
            "City\n",
            "Country\n",
            "Phone 1\n",
            "Email\n",
            "Subscription Date\n"
          ]
        }
      ]
    },
    {
      "cell_type": "code",
      "source": [
        "# Rename columns for clarity and code compatibility\n",
        "df = df.rename(columns={\n",
        "    'Customer Id': 'customer_id',\n",
        "    'First Name': 'first_name',\n",
        "    'Last Name': 'last_name',\n",
        "    'Company': 'company',\n",
        "    'City': 'city',\n",
        "    'Country': 'country',\n",
        "    'Phone 1': 'phone',\n",
        "    'Email': 'email',\n",
        "    'Subscription Date': 'subscription_date'\n",
        "})"
      ],
      "metadata": {
        "id": "zQiTbkjcf0LH"
      },
      "execution_count": 9,
      "outputs": []
    },
    {
      "cell_type": "code",
      "source": [
        "# Show updated columns\n",
        "print(\"Columns after management:\")\n",
        "for col in df.columns:\n",
        "    print(col)"
      ],
      "metadata": {
        "colab": {
          "base_uri": "https://localhost:8080/"
        },
        "id": "6BIurIcBf3kl",
        "outputId": "a1f31ed4-9170-418e-9974-6cd34113f4e5"
      },
      "execution_count": 11,
      "outputs": [
        {
          "output_type": "stream",
          "name": "stdout",
          "text": [
            "Columns after management:\n",
            "customer_id\n",
            "first_name\n",
            "last_name\n",
            "company\n",
            "city\n",
            "country\n",
            "phone\n",
            "email\n",
            "subscription_date\n"
          ]
        }
      ]
    },
    {
      "cell_type": "markdown",
      "source": [
        "(4) MISSING VALUE HANDLING"
      ],
      "metadata": {
        "id": "-l0xBSewf_GR"
      }
    },
    {
      "cell_type": "code",
      "source": [
        "# Final check to confirm no missing values introduced\n",
        "missing_summary = df.isna().sum()\n",
        "print(\"Missing values check after column management):\\n\", missing_summary)"
      ],
      "metadata": {
        "colab": {
          "base_uri": "https://localhost:8080/"
        },
        "id": "HHco0zgvf4WV",
        "outputId": "da5aa334-50bf-4e79-82e0-05d28bf9e72a"
      },
      "execution_count": 13,
      "outputs": [
        {
          "output_type": "stream",
          "name": "stdout",
          "text": [
            "Missing values check after column management):\n",
            " customer_id          0\n",
            "first_name           0\n",
            "last_name            0\n",
            "company              0\n",
            "city                 0\n",
            "country              0\n",
            "phone                0\n",
            "email                0\n",
            "subscription_date    0\n",
            "dtype: int64\n"
          ]
        }
      ]
    },
    {
      "cell_type": "code",
      "source": [
        "# No action required since all values are present\n",
        "if missing_summary.sum() == 0:\n",
        "    print(\"No missing values. Skipping deletion/imputation steps.\")\n",
        "else:\n",
        "    print(\"Unexpected missing values found — consider imputation.\")"
      ],
      "metadata": {
        "colab": {
          "base_uri": "https://localhost:8080/"
        },
        "id": "505BF11HgMyd",
        "outputId": "26a6e200-993f-4e8c-c341-0f839941d8ea"
      },
      "execution_count": 14,
      "outputs": [
        {
          "output_type": "stream",
          "name": "stdout",
          "text": [
            "No missing values. Skipping deletion/imputation steps.\n"
          ]
        }
      ]
    },
    {
      "cell_type": "markdown",
      "source": [
        "(5) DATA TYPE CORRECTION"
      ],
      "metadata": {
        "id": "-1hKijAiCMXZ"
      }
    },
    {
      "cell_type": "code",
      "source": [
        "# Convert 'subscription_date' to datetime\n",
        "df['subscription_date'] = pd.to_datetime(df['subscription_date'], errors='coerce')\n",
        "\n",
        "# Verify the change\n",
        "print(\"Data type of 'subscription_date' after conversion:\", df['subscription_date'].dtype)"
      ],
      "metadata": {
        "colab": {
          "base_uri": "https://localhost:8080/"
        },
        "id": "UZwK1xnkgbBz",
        "outputId": "0955deff-a640-499e-be4d-4c8ed7c7cdbb"
      },
      "execution_count": 16,
      "outputs": [
        {
          "output_type": "stream",
          "name": "stdout",
          "text": [
            "Data type of 'subscription_date' after conversion: datetime64[ns]\n"
          ]
        }
      ]
    },
    {
      "cell_type": "markdown",
      "source": [
        "(6) FORMAT STANDARDIZATION"
      ],
      "metadata": {
        "id": "DE1ssyfnCkEk"
      }
    },
    {
      "cell_type": "code",
      "source": [
        "# Identify object (string) columns to normalize\n",
        "string_cols = df.select_dtypes(include='object').columns\n",
        "\n",
        "# Apply lowercase and strip whitespace\n",
        "for col in string_cols:\n",
        "    df[col] = df[col].str.lower().str.strip()"
      ],
      "metadata": {
        "id": "-bzDxfIYCUM1"
      },
      "execution_count": 17,
      "outputs": []
    },
    {
      "cell_type": "code",
      "source": [
        "# Review cleaned values for key categorical columns\n",
        "for col in ['country', 'city']:\n",
        "    if col in df.columns:\n",
        "        print(f\"Unique values in '{col}' after standardization:\")\n",
        "        print(df[col].unique())"
      ],
      "metadata": {
        "colab": {
          "base_uri": "https://localhost:8080/"
        },
        "id": "0P3Fg_cSCxC9",
        "outputId": "aa132179-013f-4086-85bc-8c5265866cf7"
      },
      "execution_count": 18,
      "outputs": [
        {
          "output_type": "stream",
          "name": "stdout",
          "text": [
            "Unique values in 'country' after standardization:\n",
            "['chile' 'djibouti' 'antigua and barbuda' 'dominican republic'\n",
            " 'slovakia (slovak republic)' 'bosnia and herzegovina' 'pitcairn islands'\n",
            " 'bulgaria' 'cyprus' 'timor-leste' 'guernsey' 'vietnam' 'togo' 'sri lanka'\n",
            " 'singapore' 'oman' 'western sahara' 'mozambique'\n",
            " 'south georgia and the south sandwich islands' 'french polynesia' 'malta'\n",
            " 'netherlands' 'paraguay' \"lao people's democratic republic\" 'albania'\n",
            " 'panama' 'belarus' 'switzerland' 'saint vincent and the grenadines'\n",
            " 'tanzania' 'zimbabwe' 'denmark' 'liechtenstein'\n",
            " 'united states of america' 'bahamas' 'belize' 'uruguay' 'solomon islands'\n",
            " 'montenegro' 'poland' 'burkina faso' 'bolivia' 'monaco' 'palau'\n",
            " 'uzbekistan' 'ghana' 'united arab emirates' 'canada' 'algeria'\n",
            " 'swaziland' 'madagascar' 'ecuador' 'palestinian territory'\n",
            " 'saint barthelemy' 'sao tome and principe' 'portugal' 'ethiopia'\n",
            " 'liberia' 'lithuania' 'new caledonia' 'kiribati'\n",
            " 'french southern territories' 'iran' 'morocco' 'russian federation'\n",
            " 'united states virgin islands' 'kyrgyz republic' 'myanmar' 'dominica'\n",
            " 'iceland' 'micronesia' 'isle of man' 'fiji' 'new zealand' 'maldives'\n",
            " 'benin' 'yemen' 'namibia' 'bhutan' 'hungary' 'anguilla' 'mali' 'guyana'\n",
            " 'aruba' 'honduras']\n",
            "Unique values in 'city' after standardization:\n",
            "['east leonard' 'east jimmychester' 'isabelborough' 'bensonview'\n",
            " 'west priscilla' 'chavezborough' 'lake ana' 'kimport' 'robersonstad'\n",
            " 'elaineberg' 'shannonville' 'east andrea' 'south joannamouth' 'jodyberg'\n",
            " 'burchbury' 'desireeshire' 'west adriennestad' 'lake leslie' 'harmonview'\n",
            " 'jamesshire' 'east carly' 'south alvin' 'brittanyview' 'veronicamouth'\n",
            " 'bryanville' 'kaitlyntown' 'michealshire' 'south marissatown'\n",
            " 'acevedoville' 'north harold' 'west samuel' 'cunninghamborough'\n",
            " 'port annatown' 'new kaitlyn' 'west marthaburgh' 'east teresa'\n",
            " 'south hunter' 'south walter' 'poolefurt' 'west john' 'west darius'\n",
            " 'north jimstad' 'east rebekahborough' 'north drew' 'lake lindaburgh'\n",
            " 'gwendolynview' 'zimmermanland' 'north kerriton' 'north eileenville'\n",
            " 'port sergiofort' 'new alberttown' 'south jasmine' 'cowanfort'\n",
            " 'new deborah' 'wallstown' 'lake ellenchester' 'lake whitney'\n",
            " 'east jaredbury' 'selenabury' 'huangfort' 'east pennyshire'\n",
            " 'port jasminborough' 'west kristine' 'south julia' 'helenborough'\n",
            " 'lake nancy' 'georgeport' 'south sophiaberg' 'hartbury' 'erikaville'\n",
            " 'nicolasfort' 'new jasmineshire' 'east summerstad' 'skinnerport'\n",
            " 'raystad' 'colinhaven' 'west reginald' 'lake sherryborough'\n",
            " 'port katherineville' 'thomasland' 'coreybury' 'lake janiceton'\n",
            " 'east clinton' 'south joshuashire' 'new glenda' 'north jillianview'\n",
            " 'lyonsberg' 'east cristinabury' 'thomasfurt' 'north joeburgh'\n",
            " 'cassidychester' 'south dannymouth' 'south lonnie' 'frankchester'\n",
            " 'daisyborough' 'east richard' 'new bradview' 'ortegaland'\n",
            " 'lake elijahview' 'judymouth']\n"
          ]
        }
      ]
    },
    {
      "cell_type": "markdown",
      "source": [
        "SAVING THE CLEANED DATASET"
      ],
      "metadata": {
        "id": "MCXrlqAZDDEv"
      }
    },
    {
      "cell_type": "code",
      "source": [
        "df.to_csv(\"cleaned_customers.csv\", index=False)\n",
        "print(\"Cleaned dataset saved as 'cleaned_customers.csv'\")"
      ],
      "metadata": {
        "colab": {
          "base_uri": "https://localhost:8080/"
        },
        "id": "7jp4dNzZCy2p",
        "outputId": "7489d0c8-e812-4f4e-90da-84debb997f10"
      },
      "execution_count": 19,
      "outputs": [
        {
          "output_type": "stream",
          "name": "stdout",
          "text": [
            "Cleaned dataset saved as 'cleaned_customers.csv'\n"
          ]
        }
      ]
    },
    {
      "cell_type": "markdown",
      "source": [
        "## 2. People Dataset\n",
        "○ Description: Demographic data with mixed date formats, inconsistent job\n",
        "titles, missing values, and malformed phone numbers.\n",
        "\n",
        "○ Size: 100–2M records.\n",
        "\n"
      ],
      "metadata": {
        "id": "gTOY-s-HDiPH"
      }
    },
    {
      "cell_type": "code",
      "source": [
        "# uploaded the required dataset through file section (temporary)"
      ],
      "metadata": {
        "id": "nVoykEO6DGgD"
      },
      "execution_count": 20,
      "outputs": []
    },
    {
      "cell_type": "code",
      "source": [
        "#import necessary libraries\n",
        "import pandas as pd"
      ],
      "metadata": {
        "id": "tx2VggvrD4iO"
      },
      "execution_count": 21,
      "outputs": []
    },
    {
      "cell_type": "markdown",
      "source": [
        "(1) DATA INGESTION"
      ],
      "metadata": {
        "id": "38fRrxZCEO3E"
      }
    },
    {
      "cell_type": "code",
      "source": [
        "# Load data\n",
        "df = pd.read_csv(\"people-100.csv\")"
      ],
      "metadata": {
        "id": "KUM6JMCzD5m4"
      },
      "execution_count": 22,
      "outputs": []
    },
    {
      "cell_type": "code",
      "source": [
        "# Basic Details Check\n",
        "print(\"Shape:\", df.shape)\n",
        "print(\"\\nBasic Info:\")\n",
        "print(df.info())\n",
        "print(\"\\nMissing values per column:\\n\", df.isna().sum())"
      ],
      "metadata": {
        "colab": {
          "base_uri": "https://localhost:8080/"
        },
        "id": "fDTbqmM7EVs_",
        "outputId": "12672265-b5ec-44a9-9276-9dd0c45e477d"
      },
      "execution_count": 23,
      "outputs": [
        {
          "output_type": "stream",
          "name": "stdout",
          "text": [
            "Shape: (100, 9)\n",
            "\n",
            "Basic Info:\n",
            "<class 'pandas.core.frame.DataFrame'>\n",
            "RangeIndex: 100 entries, 0 to 99\n",
            "Data columns (total 9 columns):\n",
            " #   Column         Non-Null Count  Dtype \n",
            "---  ------         --------------  ----- \n",
            " 0   Index          100 non-null    int64 \n",
            " 1   User Id        100 non-null    object\n",
            " 2   First Name     100 non-null    object\n",
            " 3   Last Name      100 non-null    object\n",
            " 4   Sex            100 non-null    object\n",
            " 5   Email          100 non-null    object\n",
            " 6   Phone          100 non-null    object\n",
            " 7   Date of birth  100 non-null    object\n",
            " 8   Job Title      100 non-null    object\n",
            "dtypes: int64(1), object(8)\n",
            "memory usage: 7.2+ KB\n",
            "None\n",
            "\n",
            "Missing values per column:\n",
            " Index            0\n",
            "User Id          0\n",
            "First Name       0\n",
            "Last Name        0\n",
            "Sex              0\n",
            "Email            0\n",
            "Phone            0\n",
            "Date of birth    0\n",
            "Job Title        0\n",
            "dtype: int64\n"
          ]
        }
      ]
    },
    {
      "cell_type": "markdown",
      "source": [
        "(2) DEDUPLICATION"
      ],
      "metadata": {
        "id": "o0LAj70vFIYI"
      }
    },
    {
      "cell_type": "code",
      "source": [
        "duplicate_count = df.duplicated().sum()\n",
        "print(\"Number of duplicate rows:\", duplicate_count)\n",
        "\n",
        "if duplicate_count > 0:\n",
        "    df = df.drop_duplicates()\n",
        "    print(\"Duplicates removed. New shape:\", df.shape)\n",
        "else:\n",
        "    print(\"No duplicates found. Proceeding without changes.\")\n"
      ],
      "metadata": {
        "colab": {
          "base_uri": "https://localhost:8080/"
        },
        "id": "ip2em_06Ebuw",
        "outputId": "32947b40-62af-4df4-db3d-4e062de46f6d"
      },
      "execution_count": 24,
      "outputs": [
        {
          "output_type": "stream",
          "name": "stdout",
          "text": [
            "Number of duplicate rows: 0\n",
            "No duplicates found. Proceeding without changes.\n"
          ]
        }
      ]
    },
    {
      "cell_type": "markdown",
      "source": [
        "(3) COLUMN MANAGEMENT"
      ],
      "metadata": {
        "id": "IRwNqNUXFWUZ"
      }
    },
    {
      "cell_type": "code",
      "source": [
        "# Drop irrelevant columns\n",
        "df = df.drop(columns=['Index'], errors='ignore')"
      ],
      "metadata": {
        "id": "bxR-rv2uFPef"
      },
      "execution_count": 27,
      "outputs": []
    },
    {
      "cell_type": "code",
      "source": [
        "# Renaming for clarity\n",
        "df = df.rename(columns={\n",
        "    'User Id': 'user_id',\n",
        "    'First Name': 'first_name',\n",
        "    'Last Name': 'last_name',\n",
        "    'Sex': 'sex',\n",
        "    'Email': 'email',\n",
        "    'Phone': 'phone',\n",
        "    'Date of birth': 'dob',\n",
        "    'Job Title': 'job_title'\n",
        "})"
      ],
      "metadata": {
        "id": "Refs1JiTFp8k"
      },
      "execution_count": 28,
      "outputs": []
    },
    {
      "cell_type": "code",
      "source": [
        "# Show updated column names\n",
        "print(\"Columns after renaming:\")\n",
        "for col in df.columns:\n",
        "    print(col)"
      ],
      "metadata": {
        "colab": {
          "base_uri": "https://localhost:8080/"
        },
        "id": "Cyv809IQF2fb",
        "outputId": "2e6b28ae-9cc5-4f19-cf97-a4a623c9159c"
      },
      "execution_count": 30,
      "outputs": [
        {
          "output_type": "stream",
          "name": "stdout",
          "text": [
            "Columns after renaming:\n",
            "user_id\n",
            "first_name\n",
            "last_name\n",
            "sex\n",
            "email\n",
            "phone\n",
            "dob\n",
            "job_title\n"
          ]
        }
      ]
    },
    {
      "cell_type": "markdown",
      "source": [
        "(4) MISSING VALUE HANDLING"
      ],
      "metadata": {
        "id": "Nifl_Y0FGdyK"
      }
    },
    {
      "cell_type": "code",
      "source": [
        "# Check for any missing values\n",
        "missing_summary = df.isna().sum()\n",
        "print(\"Missing values per column:\\n\", missing_summary)\n",
        "\n",
        "if missing_summary.sum() == 0:\n",
        "    print(\"No missing values. Skipping imputation/deletion.\")\n",
        "else:\n",
        "    print(\"Missing values detected — handle as needed.\")"
      ],
      "metadata": {
        "colab": {
          "base_uri": "https://localhost:8080/"
        },
        "id": "Nw9-M5XgGdbA",
        "outputId": "6a1f6f92-01d7-4d1d-ad5b-cd8308ff7458"
      },
      "execution_count": 31,
      "outputs": [
        {
          "output_type": "stream",
          "name": "stdout",
          "text": [
            "Missing values per column:\n",
            " user_id       0\n",
            "first_name    0\n",
            "last_name     0\n",
            "sex           0\n",
            "email         0\n",
            "phone         0\n",
            "dob           0\n",
            "job_title     0\n",
            "dtype: int64\n",
            "No missing values. Skipping imputation/deletion.\n"
          ]
        }
      ]
    },
    {
      "cell_type": "markdown",
      "source": [
        "(5) DATA TYPE CORRECTION"
      ],
      "metadata": {
        "id": "cm2AdjT0Gxcx"
      }
    },
    {
      "cell_type": "code",
      "source": [
        "# Convert 'dob' to datetime\n",
        "df['dob'] = pd.to_datetime(df['dob'], errors='coerce')\n",
        "print(\"Data type of 'dob':\", df['dob'].dtype)\n",
        "\n",
        "# Check for invalid conversions\n",
        "print(\"Invalid date values after conversion:\", df['dob'].isna().sum())\n"
      ],
      "metadata": {
        "colab": {
          "base_uri": "https://localhost:8080/"
        },
        "id": "in4tg0oNF4fZ",
        "outputId": "5b970835-50db-4117-f386-e3ed4850af46"
      },
      "execution_count": 32,
      "outputs": [
        {
          "output_type": "stream",
          "name": "stdout",
          "text": [
            "Data type of 'dob': datetime64[ns]\n",
            "Invalid date values after conversion: 0\n"
          ]
        }
      ]
    },
    {
      "cell_type": "markdown",
      "source": [
        "(6) FORMAT STANDARDIZATION"
      ],
      "metadata": {
        "id": "qKTgPoouHB8C"
      }
    },
    {
      "cell_type": "code",
      "source": [
        "# Identify string columns\n",
        "string_cols = df.select_dtypes(include='object').columns"
      ],
      "metadata": {
        "id": "X2MXzdhrHBrj"
      },
      "execution_count": 33,
      "outputs": []
    },
    {
      "cell_type": "code",
      "source": [
        "# Normalize: lowercase and strip\n",
        "for col in string_cols:\n",
        "    df[col] = df[col].str.lower().str.strip()"
      ],
      "metadata": {
        "id": "TWCAFwVwG7G3"
      },
      "execution_count": 34,
      "outputs": []
    },
    {
      "cell_type": "code",
      "source": [
        "# Check for inconsistent categories\n",
        "for col in ['sex', 'job_title']:\n",
        "    if col in df.columns:\n",
        "        print(f\"Unique values in '{col}':\")\n",
        "        print(df[col].unique())"
      ],
      "metadata": {
        "colab": {
          "base_uri": "https://localhost:8080/"
        },
        "id": "qFgpvOAcHPHb",
        "outputId": "a89b7933-65d6-432b-997f-c53f9cbb14d3"
      },
      "execution_count": 35,
      "outputs": [
        {
          "output_type": "stream",
          "name": "stdout",
          "text": [
            "Unique values in 'sex':\n",
            "['male' 'female']\n",
            "Unique values in 'job_title':\n",
            "['games developer' 'phytotherapist' 'homeopath' 'market researcher'\n",
            " 'veterinary surgeon' 'waste management officer' 'intelligence analyst'\n",
            " 'hydrogeologist' 'lawyer' 'engineer, site'\n",
            " 'advertising account executive' 'warden/ranger'\n",
            " 'scientist, clinical (histocompatibility and immunogenetics)'\n",
            " 'social worker' 'agricultural consultant'\n",
            " 'sport and exercise psychologist' 'secretary/administrator'\n",
            " 'audiological scientist' 'teacher, adult education' 'paediatric nurse'\n",
            " 'scientist, marine' 'commercial horticulturist'\n",
            " 'outdoor activities/education manager' 'drilling engineer'\n",
            " 'systems analyst' 'conservation officer, nature' 'counsellor'\n",
            " 'recycling officer' 'art gallery manager' 'gaffer' 'food technologist'\n",
            " 'building services engineer' 'seismic interpreter' 'engineer, biomedical'\n",
            " 'set designer' 'research scientist (life sciences)'\n",
            " 'accountant, chartered management' 'surveyor, quantity'\n",
            " 'information systems manager' 'accounting technician'\n",
            " 'management consultant' 'make' 'retail banker' 'commissioning editor'\n",
            " 'jewellery designer' 'education officer, museum'\n",
            " 'estate manager/land agent' 'physiotherapist'\n",
            " 'passenger transport manager' 'call centre manager'\n",
            " 'special educational needs teacher' 'museum/gallery exhibitions officer'\n",
            " 'pension scheme manager' 'archaeologist'\n",
            " 'historic buildings inspector/conservation officer' 'petroleum engineer'\n",
            " 'curator' 'neurosurgeon' 'chiropractor' 'biochemist, clinical'\n",
            " 'scientist, water quality' 'hydrologist' 'hospital pharmacist'\n",
            " 'warehouse manager' 'physiological scientist'\n",
            " 'english as a second language teacher' 'financial trader'\n",
            " 'structural engineer' 'race relations officer' 'psychologist, forensic'\n",
            " 'newspaper journalist' 'public house manager'\n",
            " 'careers information officer' 'economist' 'contracting civil engineer'\n",
            " 'higher education lecturer' 'lecturer, further education'\n",
            " 'teacher, early years/pre' 'travel agency manager'\n",
            " 'technical sales engineer' 'charity fundraiser' 'patent attorney'\n",
            " 'conservator, furniture' 'dance movement psychotherapist'\n",
            " 'financial planner' 'air broker' 'software engineer' 'barrister'\n",
            " 'police officer' 'broadcast journalist' 'it sales professional']\n"
          ]
        }
      ]
    },
    {
      "cell_type": "markdown",
      "source": [
        "SAVING THE CLEANED DATASET"
      ],
      "metadata": {
        "id": "UXdGv6drHaoo"
      }
    },
    {
      "cell_type": "code",
      "source": [
        "# Save cleaned dataset\n",
        "df.to_csv(\"cleaned_people.csv\", index=False)\n",
        "print(\"Cleaned dataset saved as 'cleaned_people.csv'\")\n"
      ],
      "metadata": {
        "colab": {
          "base_uri": "https://localhost:8080/"
        },
        "id": "Z4UH80juHQ4a",
        "outputId": "f3283b56-5bf5-4f5f-9e8e-12f32a0d1abd"
      },
      "execution_count": 36,
      "outputs": [
        {
          "output_type": "stream",
          "name": "stdout",
          "text": [
            "Cleaned dataset saved as 'cleaned_people.csv'\n"
          ]
        }
      ]
    },
    {
      "cell_type": "markdown",
      "source": [
        "## 3. Organizations Dataset\n",
        "○ Description: Company records with inconsistent industry categories,\n",
        "missing employee counts, and website formatting errors.\n",
        "\n",
        "○ Size: 100–2M records.\n",
        "\n"
      ],
      "metadata": {
        "id": "wNAFen71HnSd"
      }
    },
    {
      "cell_type": "code",
      "source": [
        "# uploaded the required dataset through file section (temporary)"
      ],
      "metadata": {
        "id": "4xfsYrKMHoqG"
      },
      "execution_count": 37,
      "outputs": []
    },
    {
      "cell_type": "code",
      "source": [
        "#import necessary libraries\n",
        "import pandas as pd"
      ],
      "metadata": {
        "id": "dE7kgKvBH4lX"
      },
      "execution_count": 38,
      "outputs": []
    },
    {
      "cell_type": "markdown",
      "source": [
        "(1) DATA INGESTION"
      ],
      "metadata": {
        "id": "QP6JBTZsH7it"
      }
    },
    {
      "cell_type": "code",
      "source": [
        "# Load data\n",
        "df = pd.read_csv(\"organizations-100.csv\")"
      ],
      "metadata": {
        "id": "lNMEiaS7H5nm"
      },
      "execution_count": 39,
      "outputs": []
    },
    {
      "cell_type": "code",
      "source": [
        "# Basic Details Check\n",
        "print(\"Shape:\", df.shape)\n",
        "print(\"\\nBasic Info:\")\n",
        "print(df.info())\n",
        "print(\"\\nMissing values per column:\\n\", df.isna().sum())"
      ],
      "metadata": {
        "colab": {
          "base_uri": "https://localhost:8080/"
        },
        "id": "CebLFxqyIDNO",
        "outputId": "cebf354d-c697-4ef5-919d-53a8ef713c8d"
      },
      "execution_count": 40,
      "outputs": [
        {
          "output_type": "stream",
          "name": "stdout",
          "text": [
            "Shape: (100, 9)\n",
            "\n",
            "Basic Info:\n",
            "<class 'pandas.core.frame.DataFrame'>\n",
            "RangeIndex: 100 entries, 0 to 99\n",
            "Data columns (total 9 columns):\n",
            " #   Column               Non-Null Count  Dtype \n",
            "---  ------               --------------  ----- \n",
            " 0   Index                100 non-null    int64 \n",
            " 1   Organization Id      100 non-null    object\n",
            " 2   Name                 100 non-null    object\n",
            " 3   Website              100 non-null    object\n",
            " 4   Country              100 non-null    object\n",
            " 5   Description          100 non-null    object\n",
            " 6   Founded              100 non-null    int64 \n",
            " 7   Industry             100 non-null    object\n",
            " 8   Number of employees  100 non-null    int64 \n",
            "dtypes: int64(3), object(6)\n",
            "memory usage: 7.2+ KB\n",
            "None\n",
            "\n",
            "Missing values per column:\n",
            " Index                  0\n",
            "Organization Id        0\n",
            "Name                   0\n",
            "Website                0\n",
            "Country                0\n",
            "Description            0\n",
            "Founded                0\n",
            "Industry               0\n",
            "Number of employees    0\n",
            "dtype: int64\n"
          ]
        }
      ]
    },
    {
      "cell_type": "markdown",
      "source": [
        "(2) DEDUPLICATION"
      ],
      "metadata": {
        "id": "XGEgRRS6IN7i"
      }
    },
    {
      "cell_type": "code",
      "source": [
        "duplicate_count = df.duplicated().sum()\n",
        "print(\"Number of duplicate rows:\", duplicate_count)\n",
        "\n",
        "if duplicate_count > 0:\n",
        "    df = df.drop_duplicates()\n",
        "    print(\"Duplicates removed. New shape:\", df.shape)\n",
        "else:\n",
        "    print(\"No duplicates found. Proceeding without changes.\")"
      ],
      "metadata": {
        "colab": {
          "base_uri": "https://localhost:8080/"
        },
        "id": "9FddSJq6IHMz",
        "outputId": "841c0dcc-82df-41b3-828b-b50b62a61de1"
      },
      "execution_count": 41,
      "outputs": [
        {
          "output_type": "stream",
          "name": "stdout",
          "text": [
            "Number of duplicate rows: 0\n",
            "No duplicates found. Proceeding without changes.\n"
          ]
        }
      ]
    },
    {
      "cell_type": "markdown",
      "source": [
        "(3) COLUMN MANAGEMENT"
      ],
      "metadata": {
        "id": "nVRh0tDoI2-d"
      }
    },
    {
      "cell_type": "code",
      "source": [
        "# Drop unnecessary column\n",
        "df = df.drop(columns=['Index'], errors='ignore')"
      ],
      "metadata": {
        "id": "jZkMdfVbIr7v"
      },
      "execution_count": 42,
      "outputs": []
    },
    {
      "cell_type": "code",
      "source": [
        "for col in df.columns:\n",
        "    print(col)"
      ],
      "metadata": {
        "colab": {
          "base_uri": "https://localhost:8080/"
        },
        "id": "7ZmDHo-XI6qS",
        "outputId": "3b0fb5a6-f3d3-4f50-fb0f-8e54fc36b937"
      },
      "execution_count": 43,
      "outputs": [
        {
          "output_type": "stream",
          "name": "stdout",
          "text": [
            "Organization Id\n",
            "Name\n",
            "Website\n",
            "Country\n",
            "Description\n",
            "Founded\n",
            "Industry\n",
            "Number of employees\n"
          ]
        }
      ]
    },
    {
      "cell_type": "code",
      "source": [
        "# Rename for code-friendliness\n",
        "df = df.rename(columns={\n",
        "    'Organization Id': 'org_id',\n",
        "    'Name': 'name',\n",
        "    'Website': 'website',\n",
        "    'Country': 'country',\n",
        "    'Description': 'description',\n",
        "    'Founded': 'founded',\n",
        "    'Industry': 'industry',\n",
        "    'Number of employees': 'num_employees'\n",
        "})"
      ],
      "metadata": {
        "id": "EaKabH6lI_b5"
      },
      "execution_count": 44,
      "outputs": []
    },
    {
      "cell_type": "code",
      "source": [
        "print(\"columns after renaming:\")\n",
        "for col in df.columns:\n",
        "    print(col)"
      ],
      "metadata": {
        "colab": {
          "base_uri": "https://localhost:8080/"
        },
        "id": "v9qnrRbFJCpU",
        "outputId": "90265722-9ac8-4863-ea70-14a9e37d9d71"
      },
      "execution_count": 47,
      "outputs": [
        {
          "output_type": "stream",
          "name": "stdout",
          "text": [
            "columns after renaming:\n",
            "org_id\n",
            "name\n",
            "website\n",
            "country\n",
            "description\n",
            "founded\n",
            "industry\n",
            "num_employees\n"
          ]
        }
      ]
    },
    {
      "cell_type": "markdown",
      "source": [
        "(4) MISSING VALUE HANDLING"
      ],
      "metadata": {
        "id": "pTKrTHdtJbUI"
      }
    },
    {
      "cell_type": "code",
      "source": [
        "# Check for missing values\n",
        "missing_summary = df.isna().sum()\n",
        "print(\"Missing values per column:\\n\", missing_summary)\n",
        "\n",
        "if missing_summary.sum() == 0:\n",
        "    print(\"No missing values. Skipping deletion/imputation.\")\n",
        "else:\n",
        "    print(\"Missing values found — investigate further.\")"
      ],
      "metadata": {
        "colab": {
          "base_uri": "https://localhost:8080/"
        },
        "id": "R0BEFfASJFnO",
        "outputId": "eab86350-06d8-4c6b-8f7b-bcbdef82a036"
      },
      "execution_count": 48,
      "outputs": [
        {
          "output_type": "stream",
          "name": "stdout",
          "text": [
            "Missing values per column:\n",
            " org_id           0\n",
            "name             0\n",
            "website          0\n",
            "country          0\n",
            "description      0\n",
            "founded          0\n",
            "industry         0\n",
            "num_employees    0\n",
            "dtype: int64\n",
            "No missing values. Skipping deletion/imputation.\n"
          ]
        }
      ]
    },
    {
      "cell_type": "markdown",
      "source": [
        "(5) DATA TYPE CORRECTION"
      ],
      "metadata": {
        "id": "ky6y8vBqJzBE"
      }
    },
    {
      "cell_type": "code",
      "source": [
        "print(\"Data types of all columns:\\n\")\n",
        "print(df.dtypes)"
      ],
      "metadata": {
        "colab": {
          "base_uri": "https://localhost:8080/"
        },
        "id": "6a6BmlypJhdN",
        "outputId": "be12cd00-c48a-41a3-9a0b-48cc4aa2daea"
      },
      "execution_count": 49,
      "outputs": [
        {
          "output_type": "stream",
          "name": "stdout",
          "text": [
            "Data types of all columns:\n",
            "\n",
            "org_id           object\n",
            "name             object\n",
            "website          object\n",
            "country          object\n",
            "description      object\n",
            "founded           int64\n",
            "industry         object\n",
            "num_employees     int64\n",
            "dtype: object\n"
          ]
        }
      ]
    },
    {
      "cell_type": "code",
      "source": [
        "# Since the dataset is small the data type is manually checked and proceeded with the next step"
      ],
      "metadata": {
        "id": "ouVbyZHcJ29g"
      },
      "execution_count": 50,
      "outputs": []
    },
    {
      "cell_type": "markdown",
      "source": [
        "(6) FORMAT STANDARDIZATION"
      ],
      "metadata": {
        "id": "uEszd4xQKHtW"
      }
    },
    {
      "cell_type": "code",
      "source": [
        "# Identify string columns\n",
        "string_cols = df.select_dtypes(include='object').columns"
      ],
      "metadata": {
        "id": "umI452HiKGGZ"
      },
      "execution_count": 51,
      "outputs": []
    },
    {
      "cell_type": "code",
      "source": [
        "# Apply lowercase and strip whitespace\n",
        "for col in string_cols:\n",
        "    df[col] = df[col].str.lower().str.strip()"
      ],
      "metadata": {
        "id": "Kqrb9K3TKPFu"
      },
      "execution_count": 52,
      "outputs": []
    },
    {
      "cell_type": "code",
      "source": [
        "# Review values in key categorical columns\n",
        "for col in ['country', 'industry']:\n",
        "    print(f\"Unique values in '{col}':\")\n",
        "    print(df[col].unique())"
      ],
      "metadata": {
        "colab": {
          "base_uri": "https://localhost:8080/"
        },
        "id": "SdOGwy0NKROR",
        "outputId": "01c6a92c-cfc3-4257-a821-87bd7eb19209"
      },
      "execution_count": 53,
      "outputs": [
        {
          "output_type": "stream",
          "name": "stdout",
          "text": [
            "Unique values in 'country':\n",
            "['papua new guinea' 'finland' 'china' 'turkmenistan' 'mauritius' 'bahamas'\n",
            " 'pakistan' 'heard island and mcdonald islands' 'kuwait' 'uzbekistan'\n",
            " 'bouvet island (bouvetoya)' 'denmark' 'liberia' 'united arab emirates'\n",
            " 'sweden' 'honduras' 'uganda' 'hong kong' 'botswana' 'korea' 'luxembourg'\n",
            " 'guadeloupe' 'monaco' 'belgium' 'south africa' 'romania' 'czech republic'\n",
            " 'christmas island' 'philippines' 'australia' 'chad' 'zimbabwe' 'nepal'\n",
            " 'taiwan' 'kyrgyz republic' 'bolivia' 'kenya' 'guatemala' 'belarus'\n",
            " 'jersey' 'grenada' 'cape verde' 'trinidad and tobago' 'benin'\n",
            " 'western sahara' 'northern mariana islands' 'germany' 'canada' 'tonga'\n",
            " 'french southern territories' \"cote d'ivoire\" 'mayotte' 'cayman islands'\n",
            " 'nigeria' 'marshall islands' 'palau' 'turkey' 'timor-leste' 'vietnam'\n",
            " 'reunion' 'brazil' 'eritrea' 'united states virgin islands'\n",
            " 'falkland islands (malvinas)' 'netherlands antilles' 'guernsey' 'uruguay'\n",
            " 'suriname' 'mongolia' 'svalbard & jan mayen islands' 'togo' 'latvia'\n",
            " 'cuba' 'liechtenstein' 'djibouti' 'micronesia' 'cameroon'\n",
            " 'cocos (keeling) islands' 'mali' 'burundi' 'gibraltar' 'el salvador'\n",
            " 'ethiopia' 'anguilla']\n",
            "Unique values in 'industry':\n",
            "['plastics' 'glass / ceramics / concrete' 'public safety' 'automotive'\n",
            " 'transportation' 'primary / secondary education' 'publishing industry'\n",
            " 'import / export' 'outsourcing / offshoring' 'food / beverages'\n",
            " 'museums / institutions' 'medical practice' 'maritime'\n",
            " 'facilities services'\n",
            " 'investment management / hedge fund / private equity'\n",
            " 'architecture / planning' 'wholesale' 'construction'\n",
            " 'luxury goods / jewelry' 'pharmaceuticals' 'insurance'\n",
            " 'real estate / mortgage' 'banking / mortgage' 'legal services'\n",
            " 'logistics / procurement' 'civil engineering'\n",
            " 'mechanical or industrial engineering' 'hospitality'\n",
            " 'venture capital / vc' 'utilities' 'human resources / hr'\n",
            " 'legislative office' 'music' 'electrical / electronic manufacturing'\n",
            " 'non - profit / volunteering' 'writing / editing'\n",
            " 'capital markets / hedge fund / private equity'\n",
            " 'individual / family services' 'online publishing'\n",
            " 'civic / social organization' 'arts / crafts' 'consumer goods' 'printing'\n",
            " 'mental health care' 'management consulting' 'broadcast media' 'farming'\n",
            " 'entertainment / movie production' 'international trade / development'\n",
            " 'business supplies / equipment' 'marketing / advertising / sales'\n",
            " 'textiles' 'consumer electronics' 'building materials'\n",
            " 'public relations / pr' 'information technology / it' 'military industry'\n",
            " 'wireless' 'international affairs' 'accounting'\n",
            " 'computer software / engineering' 'law enforcement' 'financial services'\n",
            " 'religious institutions' 'alternative dispute resolution'\n",
            " 'telecommunications' 'semiconductors' 'newspapers / journalism'\n",
            " 'gambling / casinos' 'photography' 'consumer services'\n",
            " 'education management']\n"
          ]
        }
      ]
    },
    {
      "cell_type": "code",
      "source": [
        "# Optional minor fix: remove extra spaces around slashes and hyphens\n",
        "df['industry'] = df['industry'].str.replace(r'\\s*/\\s*', ' / ', regex=True)\n",
        "df['industry'] = df['industry'].str.replace(r'\\s*-\\s*', '-', regex=True)\n"
      ],
      "metadata": {
        "id": "cVXybqdjKTZW"
      },
      "execution_count": 54,
      "outputs": []
    },
    {
      "cell_type": "code",
      "source": [
        "print(df['industry'].unique())"
      ],
      "metadata": {
        "colab": {
          "base_uri": "https://localhost:8080/"
        },
        "id": "ji7Sr6-QKe_l",
        "outputId": "737bb6d0-3e2e-47dd-d728-ce9d87544832"
      },
      "execution_count": 55,
      "outputs": [
        {
          "output_type": "stream",
          "name": "stdout",
          "text": [
            "['plastics' 'glass / ceramics / concrete' 'public safety' 'automotive'\n",
            " 'transportation' 'primary / secondary education' 'publishing industry'\n",
            " 'import / export' 'outsourcing / offshoring' 'food / beverages'\n",
            " 'museums / institutions' 'medical practice' 'maritime'\n",
            " 'facilities services'\n",
            " 'investment management / hedge fund / private equity'\n",
            " 'architecture / planning' 'wholesale' 'construction'\n",
            " 'luxury goods / jewelry' 'pharmaceuticals' 'insurance'\n",
            " 'real estate / mortgage' 'banking / mortgage' 'legal services'\n",
            " 'logistics / procurement' 'civil engineering'\n",
            " 'mechanical or industrial engineering' 'hospitality'\n",
            " 'venture capital / vc' 'utilities' 'human resources / hr'\n",
            " 'legislative office' 'music' 'electrical / electronic manufacturing'\n",
            " 'non-profit / volunteering' 'writing / editing'\n",
            " 'capital markets / hedge fund / private equity'\n",
            " 'individual / family services' 'online publishing'\n",
            " 'civic / social organization' 'arts / crafts' 'consumer goods' 'printing'\n",
            " 'mental health care' 'management consulting' 'broadcast media' 'farming'\n",
            " 'entertainment / movie production' 'international trade / development'\n",
            " 'business supplies / equipment' 'marketing / advertising / sales'\n",
            " 'textiles' 'consumer electronics' 'building materials'\n",
            " 'public relations / pr' 'information technology / it' 'military industry'\n",
            " 'wireless' 'international affairs' 'accounting'\n",
            " 'computer software / engineering' 'law enforcement' 'financial services'\n",
            " 'religious institutions' 'alternative dispute resolution'\n",
            " 'telecommunications' 'semiconductors' 'newspapers / journalism'\n",
            " 'gambling / casinos' 'photography' 'consumer services'\n",
            " 'education management']\n"
          ]
        }
      ]
    },
    {
      "cell_type": "markdown",
      "source": [
        "SAVING THE CLEANED DATASET"
      ],
      "metadata": {
        "id": "xaVIh-gmKzAP"
      }
    },
    {
      "cell_type": "code",
      "source": [
        "# Save the cleaned dataset\n",
        "df.to_csv(\"cleaned_organizations.csv\", index=False)\n",
        "print(\"Saved as 'cleaned_organizations.csv'\")\n"
      ],
      "metadata": {
        "colab": {
          "base_uri": "https://localhost:8080/"
        },
        "id": "sl77nlLlKtGD",
        "outputId": "a27a3261-6017-4ccd-de83-f1ee4f7ca3d7"
      },
      "execution_count": 56,
      "outputs": [
        {
          "output_type": "stream",
          "name": "stdout",
          "text": [
            "Saved as 'cleaned_organizations.csv'\n"
          ]
        }
      ]
    },
    {
      "cell_type": "code",
      "source": [],
      "metadata": {
        "id": "topcCOWNK1T7"
      },
      "execution_count": null,
      "outputs": []
    }
  ]
}