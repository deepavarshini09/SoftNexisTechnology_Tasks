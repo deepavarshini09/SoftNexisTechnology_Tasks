{
  "nbformat": 4,
  "nbformat_minor": 0,
  "metadata": {
    "colab": {
      "provenance": [],
      "mount_file_id": "1ilRSnrKrDobxNT8UfPDqUsbRToRRPb-d",
      "authorship_tag": "ABX9TyMcjXErxQ3JSAa9nJGuQRbn",
      "include_colab_link": true
    },
    "kernelspec": {
      "name": "python3",
      "display_name": "Python 3"
    },
    "language_info": {
      "name": "python"
    }
  },
  "cells": [
    {
      "cell_type": "markdown",
      "metadata": {
        "id": "view-in-github",
        "colab_type": "text"
      },
      "source": [
        "<a href=\"https://colab.research.google.com/github/deepavarshini09/SoftNexisTechnology_Tasks/blob/main/task1_snt.ipynb\" target=\"_parent\"><img src=\"https://colab.research.google.com/assets/colab-badge.svg\" alt=\"Open In Colab\"/></a>"
      ]
    },
    {
      "cell_type": "markdown",
      "source": [
        "# Beginner-Friendly Datasets (3)"
      ],
      "metadata": {
        "id": "YIPX-_Fpb3TT"
      }
    },
    {
      "cell_type": "markdown",
      "source": [
        "## 1. Customers Dataset\n",
        "○ Description: Simulated e-commerce customer records with duplicates, missing IDs, inconsistent formatting (names, dates, regions), and invalid entries.\n",
        "\n",
        "○ Size: 100–2M records.\n"
      ],
      "metadata": {
        "id": "3dTTgSp-cCD2"
      }
    },
    {
      "cell_type": "code",
      "source": [
        "# uploaded the required dataset through file section (temporary)"
      ],
      "metadata": {
        "id": "NibPg_uxcaru"
      },
      "execution_count": 78,
      "outputs": []
    },
    {
      "cell_type": "code",
      "source": [
        "#import necessary libraries\n",
        "import pandas as pd"
      ],
      "metadata": {
        "id": "0To7B4ljcqWT"
      },
      "execution_count": 79,
      "outputs": []
    },
    {
      "cell_type": "markdown",
      "source": [
        "(1) DATA INGESTION:"
      ],
      "metadata": {
        "id": "gINEIFycefw8"
      }
    },
    {
      "cell_type": "code",
      "source": [
        "# Load data\n",
        "df = pd.read_csv(\"customers-100.csv\")"
      ],
      "metadata": {
        "id": "b57ho8wDcxnk"
      },
      "execution_count": 80,
      "outputs": []
    },
    {
      "cell_type": "code",
      "source": [
        "# Basic Details Check\n",
        "print(\"Shape:\", df.shape)\n",
        "print(\"\\nBasic Info:\")\n",
        "print(df.info())\n",
        "print(\"\\nMissing values per column:\\n\", df.isna().sum())"
      ],
      "metadata": {
        "colab": {
          "base_uri": "https://localhost:8080/"
        },
        "id": "b8se8qNic_3-",
        "outputId": "151ec327-3302-492f-bc8e-a75def7107a1"
      },
      "execution_count": 81,
      "outputs": [
        {
          "output_type": "stream",
          "name": "stdout",
          "text": [
            "Shape: (100, 12)\n",
            "\n",
            "Basic Info:\n",
            "<class 'pandas.core.frame.DataFrame'>\n",
            "RangeIndex: 100 entries, 0 to 99\n",
            "Data columns (total 12 columns):\n",
            " #   Column             Non-Null Count  Dtype \n",
            "---  ------             --------------  ----- \n",
            " 0   Index              100 non-null    int64 \n",
            " 1   Customer Id        100 non-null    object\n",
            " 2   First Name         100 non-null    object\n",
            " 3   Last Name          100 non-null    object\n",
            " 4   Company            100 non-null    object\n",
            " 5   City               100 non-null    object\n",
            " 6   Country            100 non-null    object\n",
            " 7   Phone 1            100 non-null    object\n",
            " 8   Phone 2            100 non-null    object\n",
            " 9   Email              100 non-null    object\n",
            " 10  Subscription Date  100 non-null    object\n",
            " 11  Website            100 non-null    object\n",
            "dtypes: int64(1), object(11)\n",
            "memory usage: 9.5+ KB\n",
            "None\n",
            "\n",
            "Missing values per column:\n",
            " Index                0\n",
            "Customer Id          0\n",
            "First Name           0\n",
            "Last Name            0\n",
            "Company              0\n",
            "City                 0\n",
            "Country              0\n",
            "Phone 1              0\n",
            "Phone 2              0\n",
            "Email                0\n",
            "Subscription Date    0\n",
            "Website              0\n",
            "dtype: int64\n"
          ]
        }
      ]
    },
    {
      "cell_type": "markdown",
      "source": [
        "(2) DE-DUPLICATION"
      ],
      "metadata": {
        "id": "0KAFIGe2elf3"
      }
    },
    {
      "cell_type": "code",
      "source": [
        "# Check for exact duplicate rows\n",
        "duplicate_count = df.duplicated().sum()\n",
        "print(\"Number of duplicate rows:\", duplicate_count)"
      ],
      "metadata": {
        "colab": {
          "base_uri": "https://localhost:8080/"
        },
        "id": "rLtFKaaneXfX",
        "outputId": "2ea414fd-762a-4e31-ba04-614d4ecb6da7"
      },
      "execution_count": 82,
      "outputs": [
        {
          "output_type": "stream",
          "name": "stdout",
          "text": [
            "Number of duplicate rows: 0\n"
          ]
        }
      ]
    },
    {
      "cell_type": "code",
      "source": [
        "# No duplicates exists, yet implementing the drop duplicates, which won't have any effects\n",
        "# Drop duplicates only if they exist\n",
        "if duplicate_count > 0:\n",
        "    df = df.drop_duplicates()\n",
        "    print(\"Duplicates removed. New shape:\", df.shape)\n",
        "else:\n",
        "    print(\"No duplicates found. Proceeding without changes.\")"
      ],
      "metadata": {
        "colab": {
          "base_uri": "https://localhost:8080/"
        },
        "id": "kjPKW3TIeuoz",
        "outputId": "d0a17b8f-bfcd-4b28-c5a5-91c75a1443de"
      },
      "execution_count": 83,
      "outputs": [
        {
          "output_type": "stream",
          "name": "stdout",
          "text": [
            "No duplicates found. Proceeding without changes.\n"
          ]
        }
      ]
    },
    {
      "cell_type": "markdown",
      "source": [
        "(3) COLUMN MANAGEMENT"
      ],
      "metadata": {
        "id": "BOsOfIqUfnuM"
      }
    },
    {
      "cell_type": "code",
      "source": [
        "# Drop irrelevant columns\n",
        "columns_to_drop = ['Index', 'Phone 2', 'Website']\n",
        "df = df.drop(columns=columns_to_drop, errors='ignore')"
      ],
      "metadata": {
        "id": "Aqb8cVBoevRW"
      },
      "execution_count": 84,
      "outputs": []
    },
    {
      "cell_type": "code",
      "source": [
        "for col in df.columns:\n",
        "    print(col)"
      ],
      "metadata": {
        "colab": {
          "base_uri": "https://localhost:8080/"
        },
        "id": "paRvsR0wBEoG",
        "outputId": "581b6b58-95f5-4ee7-d376-c86aefe8d505"
      },
      "execution_count": 85,
      "outputs": [
        {
          "output_type": "stream",
          "name": "stdout",
          "text": [
            "Customer Id\n",
            "First Name\n",
            "Last Name\n",
            "Company\n",
            "City\n",
            "Country\n",
            "Phone 1\n",
            "Email\n",
            "Subscription Date\n"
          ]
        }
      ]
    },
    {
      "cell_type": "code",
      "source": [
        "# Rename columns for clarity and code compatibility\n",
        "df = df.rename(columns={\n",
        "    'Customer Id': 'customer_id',\n",
        "    'First Name': 'first_name',\n",
        "    'Last Name': 'last_name',\n",
        "    'Company': 'company',\n",
        "    'City': 'city',\n",
        "    'Country': 'country',\n",
        "    'Phone 1': 'phone',\n",
        "    'Email': 'email',\n",
        "    'Subscription Date': 'subscription_date'\n",
        "})"
      ],
      "metadata": {
        "id": "zQiTbkjcf0LH"
      },
      "execution_count": 86,
      "outputs": []
    },
    {
      "cell_type": "code",
      "source": [
        "# Show updated columns\n",
        "print(\"Columns after management:\")\n",
        "for col in df.columns:\n",
        "    print(col)"
      ],
      "metadata": {
        "colab": {
          "base_uri": "https://localhost:8080/"
        },
        "id": "6BIurIcBf3kl",
        "outputId": "68bc39c9-db9c-42bd-f1b9-cdf9f41e7e2d"
      },
      "execution_count": 87,
      "outputs": [
        {
          "output_type": "stream",
          "name": "stdout",
          "text": [
            "Columns after management:\n",
            "customer_id\n",
            "first_name\n",
            "last_name\n",
            "company\n",
            "city\n",
            "country\n",
            "phone\n",
            "email\n",
            "subscription_date\n"
          ]
        }
      ]
    },
    {
      "cell_type": "markdown",
      "source": [
        "(4) MISSING VALUE HANDLING"
      ],
      "metadata": {
        "id": "-l0xBSewf_GR"
      }
    },
    {
      "cell_type": "code",
      "source": [
        "# Final check to confirm no missing values introduced\n",
        "missing_summary = df.isna().sum()\n",
        "print(\"Missing values check after column management):\\n\", missing_summary)"
      ],
      "metadata": {
        "colab": {
          "base_uri": "https://localhost:8080/"
        },
        "id": "HHco0zgvf4WV",
        "outputId": "6d55bc45-1e81-4d3e-ddd0-b6594968d4c5"
      },
      "execution_count": 88,
      "outputs": [
        {
          "output_type": "stream",
          "name": "stdout",
          "text": [
            "Missing values check after column management):\n",
            " customer_id          0\n",
            "first_name           0\n",
            "last_name            0\n",
            "company              0\n",
            "city                 0\n",
            "country              0\n",
            "phone                0\n",
            "email                0\n",
            "subscription_date    0\n",
            "dtype: int64\n"
          ]
        }
      ]
    },
    {
      "cell_type": "code",
      "source": [
        "# No action required since all values are present\n",
        "if missing_summary.sum() == 0:\n",
        "    print(\"No missing values. Skipping deletion/imputation steps.\")\n",
        "else:\n",
        "    print(\"Unexpected missing values found — consider imputation.\")"
      ],
      "metadata": {
        "colab": {
          "base_uri": "https://localhost:8080/"
        },
        "id": "505BF11HgMyd",
        "outputId": "c72e68aa-f737-4d05-9406-0b9cbf5daca9"
      },
      "execution_count": 89,
      "outputs": [
        {
          "output_type": "stream",
          "name": "stdout",
          "text": [
            "No missing values. Skipping deletion/imputation steps.\n"
          ]
        }
      ]
    },
    {
      "cell_type": "markdown",
      "source": [
        "(5) DATA TYPE CORRECTION"
      ],
      "metadata": {
        "id": "-1hKijAiCMXZ"
      }
    },
    {
      "cell_type": "code",
      "source": [
        "# Convert 'subscription_date' to datetime\n",
        "df['subscription_date'] = pd.to_datetime(df['subscription_date'], errors='coerce')\n",
        "\n",
        "# Verify the change\n",
        "print(\"Data type of 'subscription_date' after conversion:\", df['subscription_date'].dtype)"
      ],
      "metadata": {
        "colab": {
          "base_uri": "https://localhost:8080/"
        },
        "id": "UZwK1xnkgbBz",
        "outputId": "a7f57822-445f-49bd-82e7-0d4a57234380"
      },
      "execution_count": 90,
      "outputs": [
        {
          "output_type": "stream",
          "name": "stdout",
          "text": [
            "Data type of 'subscription_date' after conversion: datetime64[ns]\n"
          ]
        }
      ]
    },
    {
      "cell_type": "markdown",
      "source": [
        "(6) FORMAT STANDARDIZATION"
      ],
      "metadata": {
        "id": "DE1ssyfnCkEk"
      }
    },
    {
      "cell_type": "code",
      "source": [
        "# Identify object (string) columns to normalize\n",
        "string_cols = df.select_dtypes(include='object').columns\n",
        "\n",
        "# Apply lowercase and strip whitespace\n",
        "for col in string_cols:\n",
        "    df[col] = df[col].str.lower().str.strip()"
      ],
      "metadata": {
        "id": "-bzDxfIYCUM1"
      },
      "execution_count": 91,
      "outputs": []
    },
    {
      "cell_type": "code",
      "source": [
        "# Review cleaned values for key categorical columns\n",
        "for col in ['country', 'city']:\n",
        "    if col in df.columns:\n",
        "        print(f\"Unique values in '{col}' after standardization:\")\n",
        "        print(df[col].unique())"
      ],
      "metadata": {
        "colab": {
          "base_uri": "https://localhost:8080/"
        },
        "id": "0P3Fg_cSCxC9",
        "outputId": "b50cb5ee-87f6-43d0-b6ef-d75028e0b01d"
      },
      "execution_count": 92,
      "outputs": [
        {
          "output_type": "stream",
          "name": "stdout",
          "text": [
            "Unique values in 'country' after standardization:\n",
            "['chile' 'djibouti' 'antigua and barbuda' 'dominican republic'\n",
            " 'slovakia (slovak republic)' 'bosnia and herzegovina' 'pitcairn islands'\n",
            " 'bulgaria' 'cyprus' 'timor-leste' 'guernsey' 'vietnam' 'togo' 'sri lanka'\n",
            " 'singapore' 'oman' 'western sahara' 'mozambique'\n",
            " 'south georgia and the south sandwich islands' 'french polynesia' 'malta'\n",
            " 'netherlands' 'paraguay' \"lao people's democratic republic\" 'albania'\n",
            " 'panama' 'belarus' 'switzerland' 'saint vincent and the grenadines'\n",
            " 'tanzania' 'zimbabwe' 'denmark' 'liechtenstein'\n",
            " 'united states of america' 'bahamas' 'belize' 'uruguay' 'solomon islands'\n",
            " 'montenegro' 'poland' 'burkina faso' 'bolivia' 'monaco' 'palau'\n",
            " 'uzbekistan' 'ghana' 'united arab emirates' 'canada' 'algeria'\n",
            " 'swaziland' 'madagascar' 'ecuador' 'palestinian territory'\n",
            " 'saint barthelemy' 'sao tome and principe' 'portugal' 'ethiopia'\n",
            " 'liberia' 'lithuania' 'new caledonia' 'kiribati'\n",
            " 'french southern territories' 'iran' 'morocco' 'russian federation'\n",
            " 'united states virgin islands' 'kyrgyz republic' 'myanmar' 'dominica'\n",
            " 'iceland' 'micronesia' 'isle of man' 'fiji' 'new zealand' 'maldives'\n",
            " 'benin' 'yemen' 'namibia' 'bhutan' 'hungary' 'anguilla' 'mali' 'guyana'\n",
            " 'aruba' 'honduras']\n",
            "Unique values in 'city' after standardization:\n",
            "['east leonard' 'east jimmychester' 'isabelborough' 'bensonview'\n",
            " 'west priscilla' 'chavezborough' 'lake ana' 'kimport' 'robersonstad'\n",
            " 'elaineberg' 'shannonville' 'east andrea' 'south joannamouth' 'jodyberg'\n",
            " 'burchbury' 'desireeshire' 'west adriennestad' 'lake leslie' 'harmonview'\n",
            " 'jamesshire' 'east carly' 'south alvin' 'brittanyview' 'veronicamouth'\n",
            " 'bryanville' 'kaitlyntown' 'michealshire' 'south marissatown'\n",
            " 'acevedoville' 'north harold' 'west samuel' 'cunninghamborough'\n",
            " 'port annatown' 'new kaitlyn' 'west marthaburgh' 'east teresa'\n",
            " 'south hunter' 'south walter' 'poolefurt' 'west john' 'west darius'\n",
            " 'north jimstad' 'east rebekahborough' 'north drew' 'lake lindaburgh'\n",
            " 'gwendolynview' 'zimmermanland' 'north kerriton' 'north eileenville'\n",
            " 'port sergiofort' 'new alberttown' 'south jasmine' 'cowanfort'\n",
            " 'new deborah' 'wallstown' 'lake ellenchester' 'lake whitney'\n",
            " 'east jaredbury' 'selenabury' 'huangfort' 'east pennyshire'\n",
            " 'port jasminborough' 'west kristine' 'south julia' 'helenborough'\n",
            " 'lake nancy' 'georgeport' 'south sophiaberg' 'hartbury' 'erikaville'\n",
            " 'nicolasfort' 'new jasmineshire' 'east summerstad' 'skinnerport'\n",
            " 'raystad' 'colinhaven' 'west reginald' 'lake sherryborough'\n",
            " 'port katherineville' 'thomasland' 'coreybury' 'lake janiceton'\n",
            " 'east clinton' 'south joshuashire' 'new glenda' 'north jillianview'\n",
            " 'lyonsberg' 'east cristinabury' 'thomasfurt' 'north joeburgh'\n",
            " 'cassidychester' 'south dannymouth' 'south lonnie' 'frankchester'\n",
            " 'daisyborough' 'east richard' 'new bradview' 'ortegaland'\n",
            " 'lake elijahview' 'judymouth']\n"
          ]
        }
      ]
    },
    {
      "cell_type": "markdown",
      "source": [
        "SAVING THE CLEANED DATASET"
      ],
      "metadata": {
        "id": "MCXrlqAZDDEv"
      }
    },
    {
      "cell_type": "code",
      "source": [
        "df.to_csv(\"cleaned_customers.csv\", index=False)\n",
        "print(\"Cleaned dataset saved as 'cleaned_customers.csv'\")"
      ],
      "metadata": {
        "colab": {
          "base_uri": "https://localhost:8080/"
        },
        "id": "7jp4dNzZCy2p",
        "outputId": "36ca2b69-5b03-4196-b485-8d0c7c7be3ef"
      },
      "execution_count": 93,
      "outputs": [
        {
          "output_type": "stream",
          "name": "stdout",
          "text": [
            "Cleaned dataset saved as 'cleaned_customers.csv'\n"
          ]
        }
      ]
    },
    {
      "cell_type": "markdown",
      "source": [
        "## 2. People Dataset\n",
        "○ Description: Demographic data with mixed date formats, inconsistent job\n",
        "titles, missing values, and malformed phone numbers.\n",
        "\n",
        "○ Size: 100–2M records.\n",
        "\n"
      ],
      "metadata": {
        "id": "gTOY-s-HDiPH"
      }
    },
    {
      "cell_type": "code",
      "source": [
        "# uploaded the required dataset through file section (temporary)"
      ],
      "metadata": {
        "id": "nVoykEO6DGgD"
      },
      "execution_count": null,
      "outputs": []
    },
    {
      "cell_type": "code",
      "source": [
        "#import necessary libraries\n",
        "import pandas as pd"
      ],
      "metadata": {
        "id": "tx2VggvrD4iO"
      },
      "execution_count": null,
      "outputs": []
    },
    {
      "cell_type": "markdown",
      "source": [
        "(1) DATA INGESTION"
      ],
      "metadata": {
        "id": "38fRrxZCEO3E"
      }
    },
    {
      "cell_type": "code",
      "source": [
        "# Load data\n",
        "df = pd.read_csv(\"people-100.csv\")"
      ],
      "metadata": {
        "id": "KUM6JMCzD5m4"
      },
      "execution_count": null,
      "outputs": []
    },
    {
      "cell_type": "code",
      "source": [
        "# Basic Details Check\n",
        "print(\"Shape:\", df.shape)\n",
        "print(\"\\nBasic Info:\")\n",
        "print(df.info())\n",
        "print(\"\\nMissing values per column:\\n\", df.isna().sum())"
      ],
      "metadata": {
        "colab": {
          "base_uri": "https://localhost:8080/"
        },
        "id": "fDTbqmM7EVs_",
        "outputId": "12672265-b5ec-44a9-9276-9dd0c45e477d"
      },
      "execution_count": null,
      "outputs": [
        {
          "output_type": "stream",
          "name": "stdout",
          "text": [
            "Shape: (100, 9)\n",
            "\n",
            "Basic Info:\n",
            "<class 'pandas.core.frame.DataFrame'>\n",
            "RangeIndex: 100 entries, 0 to 99\n",
            "Data columns (total 9 columns):\n",
            " #   Column         Non-Null Count  Dtype \n",
            "---  ------         --------------  ----- \n",
            " 0   Index          100 non-null    int64 \n",
            " 1   User Id        100 non-null    object\n",
            " 2   First Name     100 non-null    object\n",
            " 3   Last Name      100 non-null    object\n",
            " 4   Sex            100 non-null    object\n",
            " 5   Email          100 non-null    object\n",
            " 6   Phone          100 non-null    object\n",
            " 7   Date of birth  100 non-null    object\n",
            " 8   Job Title      100 non-null    object\n",
            "dtypes: int64(1), object(8)\n",
            "memory usage: 7.2+ KB\n",
            "None\n",
            "\n",
            "Missing values per column:\n",
            " Index            0\n",
            "User Id          0\n",
            "First Name       0\n",
            "Last Name        0\n",
            "Sex              0\n",
            "Email            0\n",
            "Phone            0\n",
            "Date of birth    0\n",
            "Job Title        0\n",
            "dtype: int64\n"
          ]
        }
      ]
    },
    {
      "cell_type": "markdown",
      "source": [
        "(2) DEDUPLICATION"
      ],
      "metadata": {
        "id": "o0LAj70vFIYI"
      }
    },
    {
      "cell_type": "code",
      "source": [
        "duplicate_count = df.duplicated().sum()\n",
        "print(\"Number of duplicate rows:\", duplicate_count)\n",
        "\n",
        "if duplicate_count > 0:\n",
        "    df = df.drop_duplicates()\n",
        "    print(\"Duplicates removed. New shape:\", df.shape)\n",
        "else:\n",
        "    print(\"No duplicates found. Proceeding without changes.\")\n"
      ],
      "metadata": {
        "colab": {
          "base_uri": "https://localhost:8080/"
        },
        "id": "ip2em_06Ebuw",
        "outputId": "32947b40-62af-4df4-db3d-4e062de46f6d"
      },
      "execution_count": null,
      "outputs": [
        {
          "output_type": "stream",
          "name": "stdout",
          "text": [
            "Number of duplicate rows: 0\n",
            "No duplicates found. Proceeding without changes.\n"
          ]
        }
      ]
    },
    {
      "cell_type": "markdown",
      "source": [
        "(3) COLUMN MANAGEMENT"
      ],
      "metadata": {
        "id": "IRwNqNUXFWUZ"
      }
    },
    {
      "cell_type": "code",
      "source": [
        "# Drop irrelevant columns\n",
        "df = df.drop(columns=['Index'], errors='ignore')"
      ],
      "metadata": {
        "id": "bxR-rv2uFPef"
      },
      "execution_count": null,
      "outputs": []
    },
    {
      "cell_type": "code",
      "source": [
        "# Renaming for clarity\n",
        "df = df.rename(columns={\n",
        "    'User Id': 'user_id',\n",
        "    'First Name': 'first_name',\n",
        "    'Last Name': 'last_name',\n",
        "    'Sex': 'sex',\n",
        "    'Email': 'email',\n",
        "    'Phone': 'phone',\n",
        "    'Date of birth': 'dob',\n",
        "    'Job Title': 'job_title'\n",
        "})"
      ],
      "metadata": {
        "id": "Refs1JiTFp8k"
      },
      "execution_count": null,
      "outputs": []
    },
    {
      "cell_type": "code",
      "source": [
        "# Show updated column names\n",
        "print(\"Columns after renaming:\")\n",
        "for col in df.columns:\n",
        "    print(col)"
      ],
      "metadata": {
        "colab": {
          "base_uri": "https://localhost:8080/"
        },
        "id": "Cyv809IQF2fb",
        "outputId": "2e6b28ae-9cc5-4f19-cf97-a4a623c9159c"
      },
      "execution_count": null,
      "outputs": [
        {
          "output_type": "stream",
          "name": "stdout",
          "text": [
            "Columns after renaming:\n",
            "user_id\n",
            "first_name\n",
            "last_name\n",
            "sex\n",
            "email\n",
            "phone\n",
            "dob\n",
            "job_title\n"
          ]
        }
      ]
    },
    {
      "cell_type": "markdown",
      "source": [
        "(4) MISSING VALUE HANDLING"
      ],
      "metadata": {
        "id": "Nifl_Y0FGdyK"
      }
    },
    {
      "cell_type": "code",
      "source": [
        "# Check for any missing values\n",
        "missing_summary = df.isna().sum()\n",
        "print(\"Missing values per column:\\n\", missing_summary)\n",
        "\n",
        "if missing_summary.sum() == 0:\n",
        "    print(\"No missing values. Skipping imputation/deletion.\")\n",
        "else:\n",
        "    print(\"Missing values detected — handle as needed.\")"
      ],
      "metadata": {
        "colab": {
          "base_uri": "https://localhost:8080/"
        },
        "id": "Nw9-M5XgGdbA",
        "outputId": "6a1f6f92-01d7-4d1d-ad5b-cd8308ff7458"
      },
      "execution_count": null,
      "outputs": [
        {
          "output_type": "stream",
          "name": "stdout",
          "text": [
            "Missing values per column:\n",
            " user_id       0\n",
            "first_name    0\n",
            "last_name     0\n",
            "sex           0\n",
            "email         0\n",
            "phone         0\n",
            "dob           0\n",
            "job_title     0\n",
            "dtype: int64\n",
            "No missing values. Skipping imputation/deletion.\n"
          ]
        }
      ]
    },
    {
      "cell_type": "markdown",
      "source": [
        "(5) DATA TYPE CORRECTION"
      ],
      "metadata": {
        "id": "cm2AdjT0Gxcx"
      }
    },
    {
      "cell_type": "code",
      "source": [
        "# Convert 'dob' to datetime\n",
        "df['dob'] = pd.to_datetime(df['dob'], errors='coerce')\n",
        "print(\"Data type of 'dob':\", df['dob'].dtype)\n",
        "\n",
        "# Check for invalid conversions\n",
        "print(\"Invalid date values after conversion:\", df['dob'].isna().sum())\n"
      ],
      "metadata": {
        "colab": {
          "base_uri": "https://localhost:8080/"
        },
        "id": "in4tg0oNF4fZ",
        "outputId": "5b970835-50db-4117-f386-e3ed4850af46"
      },
      "execution_count": null,
      "outputs": [
        {
          "output_type": "stream",
          "name": "stdout",
          "text": [
            "Data type of 'dob': datetime64[ns]\n",
            "Invalid date values after conversion: 0\n"
          ]
        }
      ]
    },
    {
      "cell_type": "markdown",
      "source": [
        "(6) FORMAT STANDARDIZATION"
      ],
      "metadata": {
        "id": "qKTgPoouHB8C"
      }
    },
    {
      "cell_type": "code",
      "source": [
        "# Identify string columns\n",
        "string_cols = df.select_dtypes(include='object').columns"
      ],
      "metadata": {
        "id": "X2MXzdhrHBrj"
      },
      "execution_count": null,
      "outputs": []
    },
    {
      "cell_type": "code",
      "source": [
        "# Normalize: lowercase and strip\n",
        "for col in string_cols:\n",
        "    df[col] = df[col].str.lower().str.strip()"
      ],
      "metadata": {
        "id": "TWCAFwVwG7G3"
      },
      "execution_count": null,
      "outputs": []
    },
    {
      "cell_type": "code",
      "source": [
        "# Check for inconsistent categories\n",
        "for col in ['sex', 'job_title']:\n",
        "    if col in df.columns:\n",
        "        print(f\"Unique values in '{col}':\")\n",
        "        print(df[col].unique())"
      ],
      "metadata": {
        "colab": {
          "base_uri": "https://localhost:8080/"
        },
        "id": "qFgpvOAcHPHb",
        "outputId": "a89b7933-65d6-432b-997f-c53f9cbb14d3"
      },
      "execution_count": null,
      "outputs": [
        {
          "output_type": "stream",
          "name": "stdout",
          "text": [
            "Unique values in 'sex':\n",
            "['male' 'female']\n",
            "Unique values in 'job_title':\n",
            "['games developer' 'phytotherapist' 'homeopath' 'market researcher'\n",
            " 'veterinary surgeon' 'waste management officer' 'intelligence analyst'\n",
            " 'hydrogeologist' 'lawyer' 'engineer, site'\n",
            " 'advertising account executive' 'warden/ranger'\n",
            " 'scientist, clinical (histocompatibility and immunogenetics)'\n",
            " 'social worker' 'agricultural consultant'\n",
            " 'sport and exercise psychologist' 'secretary/administrator'\n",
            " 'audiological scientist' 'teacher, adult education' 'paediatric nurse'\n",
            " 'scientist, marine' 'commercial horticulturist'\n",
            " 'outdoor activities/education manager' 'drilling engineer'\n",
            " 'systems analyst' 'conservation officer, nature' 'counsellor'\n",
            " 'recycling officer' 'art gallery manager' 'gaffer' 'food technologist'\n",
            " 'building services engineer' 'seismic interpreter' 'engineer, biomedical'\n",
            " 'set designer' 'research scientist (life sciences)'\n",
            " 'accountant, chartered management' 'surveyor, quantity'\n",
            " 'information systems manager' 'accounting technician'\n",
            " 'management consultant' 'make' 'retail banker' 'commissioning editor'\n",
            " 'jewellery designer' 'education officer, museum'\n",
            " 'estate manager/land agent' 'physiotherapist'\n",
            " 'passenger transport manager' 'call centre manager'\n",
            " 'special educational needs teacher' 'museum/gallery exhibitions officer'\n",
            " 'pension scheme manager' 'archaeologist'\n",
            " 'historic buildings inspector/conservation officer' 'petroleum engineer'\n",
            " 'curator' 'neurosurgeon' 'chiropractor' 'biochemist, clinical'\n",
            " 'scientist, water quality' 'hydrologist' 'hospital pharmacist'\n",
            " 'warehouse manager' 'physiological scientist'\n",
            " 'english as a second language teacher' 'financial trader'\n",
            " 'structural engineer' 'race relations officer' 'psychologist, forensic'\n",
            " 'newspaper journalist' 'public house manager'\n",
            " 'careers information officer' 'economist' 'contracting civil engineer'\n",
            " 'higher education lecturer' 'lecturer, further education'\n",
            " 'teacher, early years/pre' 'travel agency manager'\n",
            " 'technical sales engineer' 'charity fundraiser' 'patent attorney'\n",
            " 'conservator, furniture' 'dance movement psychotherapist'\n",
            " 'financial planner' 'air broker' 'software engineer' 'barrister'\n",
            " 'police officer' 'broadcast journalist' 'it sales professional']\n"
          ]
        }
      ]
    },
    {
      "cell_type": "markdown",
      "source": [
        "SAVING THE CLEANED DATASET"
      ],
      "metadata": {
        "id": "UXdGv6drHaoo"
      }
    },
    {
      "cell_type": "code",
      "source": [
        "# Save cleaned dataset\n",
        "df.to_csv(\"cleaned_people.csv\", index=False)\n",
        "print(\"Cleaned dataset saved as 'cleaned_people.csv'\")\n"
      ],
      "metadata": {
        "colab": {
          "base_uri": "https://localhost:8080/"
        },
        "id": "Z4UH80juHQ4a",
        "outputId": "f3283b56-5bf5-4f5f-9e8e-12f32a0d1abd"
      },
      "execution_count": null,
      "outputs": [
        {
          "output_type": "stream",
          "name": "stdout",
          "text": [
            "Cleaned dataset saved as 'cleaned_people.csv'\n"
          ]
        }
      ]
    },
    {
      "cell_type": "markdown",
      "source": [
        "## 3. Organizations Dataset\n",
        "○ Description: Company records with inconsistent industry categories,\n",
        "missing employee counts, and website formatting errors.\n",
        "\n",
        "○ Size: 100–2M records.\n",
        "\n"
      ],
      "metadata": {
        "id": "wNAFen71HnSd"
      }
    },
    {
      "cell_type": "code",
      "source": [
        "# uploaded the required dataset through file section (temporary)"
      ],
      "metadata": {
        "id": "4xfsYrKMHoqG"
      },
      "execution_count": 60,
      "outputs": []
    },
    {
      "cell_type": "code",
      "source": [
        "#import necessary libraries\n",
        "import pandas as pd"
      ],
      "metadata": {
        "id": "dE7kgKvBH4lX"
      },
      "execution_count": 61,
      "outputs": []
    },
    {
      "cell_type": "markdown",
      "source": [
        "(1) DATA INGESTION"
      ],
      "metadata": {
        "id": "QP6JBTZsH7it"
      }
    },
    {
      "cell_type": "code",
      "source": [
        "# Load data\n",
        "df = pd.read_csv(\"organizations-100.csv\")"
      ],
      "metadata": {
        "id": "lNMEiaS7H5nm"
      },
      "execution_count": 62,
      "outputs": []
    },
    {
      "cell_type": "code",
      "source": [
        "# Basic Details Check\n",
        "print(\"Shape:\", df.shape)\n",
        "print(\"\\nBasic Info:\")\n",
        "print(df.info())\n",
        "print(\"\\nMissing values per column:\\n\", df.isna().sum())"
      ],
      "metadata": {
        "colab": {
          "base_uri": "https://localhost:8080/"
        },
        "id": "CebLFxqyIDNO",
        "outputId": "ac00ae5e-4685-4857-d00a-7585abd157de"
      },
      "execution_count": 63,
      "outputs": [
        {
          "output_type": "stream",
          "name": "stdout",
          "text": [
            "Shape: (100, 9)\n",
            "\n",
            "Basic Info:\n",
            "<class 'pandas.core.frame.DataFrame'>\n",
            "RangeIndex: 100 entries, 0 to 99\n",
            "Data columns (total 9 columns):\n",
            " #   Column               Non-Null Count  Dtype \n",
            "---  ------               --------------  ----- \n",
            " 0   Index                100 non-null    int64 \n",
            " 1   Organization Id      100 non-null    object\n",
            " 2   Name                 100 non-null    object\n",
            " 3   Website              100 non-null    object\n",
            " 4   Country              100 non-null    object\n",
            " 5   Description          100 non-null    object\n",
            " 6   Founded              100 non-null    int64 \n",
            " 7   Industry             100 non-null    object\n",
            " 8   Number of employees  100 non-null    int64 \n",
            "dtypes: int64(3), object(6)\n",
            "memory usage: 7.2+ KB\n",
            "None\n",
            "\n",
            "Missing values per column:\n",
            " Index                  0\n",
            "Organization Id        0\n",
            "Name                   0\n",
            "Website                0\n",
            "Country                0\n",
            "Description            0\n",
            "Founded                0\n",
            "Industry               0\n",
            "Number of employees    0\n",
            "dtype: int64\n"
          ]
        }
      ]
    },
    {
      "cell_type": "markdown",
      "source": [
        "(2) DEDUPLICATION"
      ],
      "metadata": {
        "id": "XGEgRRS6IN7i"
      }
    },
    {
      "cell_type": "code",
      "source": [
        "duplicate_count = df.duplicated().sum()\n",
        "print(\"Number of duplicate rows:\", duplicate_count)\n",
        "\n",
        "if duplicate_count > 0:\n",
        "    df = df.drop_duplicates()\n",
        "    print(\"Duplicates removed. New shape:\", df.shape)\n",
        "else:\n",
        "    print(\"No duplicates found. Proceeding without changes.\")"
      ],
      "metadata": {
        "colab": {
          "base_uri": "https://localhost:8080/"
        },
        "id": "9FddSJq6IHMz",
        "outputId": "3e04230a-7e6d-4713-f8ba-1fa001f5b78d"
      },
      "execution_count": 64,
      "outputs": [
        {
          "output_type": "stream",
          "name": "stdout",
          "text": [
            "Number of duplicate rows: 0\n",
            "No duplicates found. Proceeding without changes.\n"
          ]
        }
      ]
    },
    {
      "cell_type": "markdown",
      "source": [
        "(3) COLUMN MANAGEMENT"
      ],
      "metadata": {
        "id": "nVRh0tDoI2-d"
      }
    },
    {
      "cell_type": "code",
      "source": [
        "# Drop unnecessary column\n",
        "df = df.drop(columns=['Index'], errors='ignore')"
      ],
      "metadata": {
        "id": "jZkMdfVbIr7v"
      },
      "execution_count": 65,
      "outputs": []
    },
    {
      "cell_type": "code",
      "source": [
        "for col in df.columns:\n",
        "    print(col)"
      ],
      "metadata": {
        "colab": {
          "base_uri": "https://localhost:8080/"
        },
        "id": "7ZmDHo-XI6qS",
        "outputId": "da62b1ac-7b9b-4c28-93bf-7d765d59a964"
      },
      "execution_count": 66,
      "outputs": [
        {
          "output_type": "stream",
          "name": "stdout",
          "text": [
            "Organization Id\n",
            "Name\n",
            "Website\n",
            "Country\n",
            "Description\n",
            "Founded\n",
            "Industry\n",
            "Number of employees\n"
          ]
        }
      ]
    },
    {
      "cell_type": "code",
      "source": [
        "# Rename for code-friendliness\n",
        "df = df.rename(columns={\n",
        "    'Organization Id': 'org_id',\n",
        "    'Name': 'name',\n",
        "    'Website': 'website',\n",
        "    'Country': 'country',\n",
        "    'Description': 'description',\n",
        "    'Founded': 'founded',\n",
        "    'Industry': 'industry',\n",
        "    'Number of employees': 'num_employees'\n",
        "})"
      ],
      "metadata": {
        "id": "EaKabH6lI_b5"
      },
      "execution_count": 67,
      "outputs": []
    },
    {
      "cell_type": "code",
      "source": [
        "print(\"columns after renaming:\")\n",
        "for col in df.columns:\n",
        "    print(col)"
      ],
      "metadata": {
        "colab": {
          "base_uri": "https://localhost:8080/"
        },
        "id": "v9qnrRbFJCpU",
        "outputId": "26740e5d-1878-436a-d0ce-091ea92b9874"
      },
      "execution_count": 68,
      "outputs": [
        {
          "output_type": "stream",
          "name": "stdout",
          "text": [
            "columns after renaming:\n",
            "org_id\n",
            "name\n",
            "website\n",
            "country\n",
            "description\n",
            "founded\n",
            "industry\n",
            "num_employees\n"
          ]
        }
      ]
    },
    {
      "cell_type": "markdown",
      "source": [
        "(4) MISSING VALUE HANDLING"
      ],
      "metadata": {
        "id": "pTKrTHdtJbUI"
      }
    },
    {
      "cell_type": "code",
      "source": [
        "# Check for missing values\n",
        "missing_summary = df.isna().sum()\n",
        "print(\"Missing values per column:\\n\", missing_summary)\n",
        "\n",
        "if missing_summary.sum() == 0:\n",
        "    print(\"No missing values. Skipping deletion/imputation.\")\n",
        "else:\n",
        "    print(\"Missing values found — investigate further.\")"
      ],
      "metadata": {
        "colab": {
          "base_uri": "https://localhost:8080/"
        },
        "id": "R0BEFfASJFnO",
        "outputId": "591e19c8-8662-472d-e794-7b2135ec2a6d"
      },
      "execution_count": 69,
      "outputs": [
        {
          "output_type": "stream",
          "name": "stdout",
          "text": [
            "Missing values per column:\n",
            " org_id           0\n",
            "name             0\n",
            "website          0\n",
            "country          0\n",
            "description      0\n",
            "founded          0\n",
            "industry         0\n",
            "num_employees    0\n",
            "dtype: int64\n",
            "No missing values. Skipping deletion/imputation.\n"
          ]
        }
      ]
    },
    {
      "cell_type": "markdown",
      "source": [
        "(5) DATA TYPE CORRECTION"
      ],
      "metadata": {
        "id": "ky6y8vBqJzBE"
      }
    },
    {
      "cell_type": "code",
      "source": [
        "print(\"Data types of all columns:\\n\")\n",
        "print(df.dtypes)"
      ],
      "metadata": {
        "colab": {
          "base_uri": "https://localhost:8080/"
        },
        "id": "6a6BmlypJhdN",
        "outputId": "34d17150-00e1-4478-bcdf-7ee21223baf1"
      },
      "execution_count": 70,
      "outputs": [
        {
          "output_type": "stream",
          "name": "stdout",
          "text": [
            "Data types of all columns:\n",
            "\n",
            "org_id           object\n",
            "name             object\n",
            "website          object\n",
            "country          object\n",
            "description      object\n",
            "founded           int64\n",
            "industry         object\n",
            "num_employees     int64\n",
            "dtype: object\n"
          ]
        }
      ]
    },
    {
      "cell_type": "code",
      "source": [
        "# Since the dataset is small the data type is manually checked and proceeded with the next step"
      ],
      "metadata": {
        "id": "ouVbyZHcJ29g"
      },
      "execution_count": 71,
      "outputs": []
    },
    {
      "cell_type": "markdown",
      "source": [
        "(6) FORMAT STANDARDIZATION"
      ],
      "metadata": {
        "id": "uEszd4xQKHtW"
      }
    },
    {
      "cell_type": "code",
      "source": [
        "# Identify string columns\n",
        "string_cols = df.select_dtypes(include='object').columns"
      ],
      "metadata": {
        "id": "umI452HiKGGZ"
      },
      "execution_count": 72,
      "outputs": []
    },
    {
      "cell_type": "code",
      "source": [
        "# Apply lowercase and strip whitespace\n",
        "for col in string_cols:\n",
        "    df[col] = df[col].str.lower().str.strip()"
      ],
      "metadata": {
        "id": "Kqrb9K3TKPFu"
      },
      "execution_count": 73,
      "outputs": []
    },
    {
      "cell_type": "code",
      "source": [
        "# Review values in key categorical columns\n",
        "for col in ['country', 'industry']:\n",
        "    print(f\"Unique values in '{col}':\")\n",
        "    print(df[col].unique())"
      ],
      "metadata": {
        "colab": {
          "base_uri": "https://localhost:8080/"
        },
        "id": "SdOGwy0NKROR",
        "outputId": "c212b5f2-2a9a-4242-eea4-2daa1f1f35cc"
      },
      "execution_count": 74,
      "outputs": [
        {
          "output_type": "stream",
          "name": "stdout",
          "text": [
            "Unique values in 'country':\n",
            "['papua new guinea' 'finland' 'china' 'turkmenistan' 'mauritius' 'bahamas'\n",
            " 'pakistan' 'heard island and mcdonald islands' 'kuwait' 'uzbekistan'\n",
            " 'bouvet island (bouvetoya)' 'denmark' 'liberia' 'united arab emirates'\n",
            " 'sweden' 'honduras' 'uganda' 'hong kong' 'botswana' 'korea' 'luxembourg'\n",
            " 'guadeloupe' 'monaco' 'belgium' 'south africa' 'romania' 'czech republic'\n",
            " 'christmas island' 'philippines' 'australia' 'chad' 'zimbabwe' 'nepal'\n",
            " 'taiwan' 'kyrgyz republic' 'bolivia' 'kenya' 'guatemala' 'belarus'\n",
            " 'jersey' 'grenada' 'cape verde' 'trinidad and tobago' 'benin'\n",
            " 'western sahara' 'northern mariana islands' 'germany' 'canada' 'tonga'\n",
            " 'french southern territories' \"cote d'ivoire\" 'mayotte' 'cayman islands'\n",
            " 'nigeria' 'marshall islands' 'palau' 'turkey' 'timor-leste' 'vietnam'\n",
            " 'reunion' 'brazil' 'eritrea' 'united states virgin islands'\n",
            " 'falkland islands (malvinas)' 'netherlands antilles' 'guernsey' 'uruguay'\n",
            " 'suriname' 'mongolia' 'svalbard & jan mayen islands' 'togo' 'latvia'\n",
            " 'cuba' 'liechtenstein' 'djibouti' 'micronesia' 'cameroon'\n",
            " 'cocos (keeling) islands' 'mali' 'burundi' 'gibraltar' 'el salvador'\n",
            " 'ethiopia' 'anguilla']\n",
            "Unique values in 'industry':\n",
            "['plastics' 'glass / ceramics / concrete' 'public safety' 'automotive'\n",
            " 'transportation' 'primary / secondary education' 'publishing industry'\n",
            " 'import / export' 'outsourcing / offshoring' 'food / beverages'\n",
            " 'museums / institutions' 'medical practice' 'maritime'\n",
            " 'facilities services'\n",
            " 'investment management / hedge fund / private equity'\n",
            " 'architecture / planning' 'wholesale' 'construction'\n",
            " 'luxury goods / jewelry' 'pharmaceuticals' 'insurance'\n",
            " 'real estate / mortgage' 'banking / mortgage' 'legal services'\n",
            " 'logistics / procurement' 'civil engineering'\n",
            " 'mechanical or industrial engineering' 'hospitality'\n",
            " 'venture capital / vc' 'utilities' 'human resources / hr'\n",
            " 'legislative office' 'music' 'electrical / electronic manufacturing'\n",
            " 'non - profit / volunteering' 'writing / editing'\n",
            " 'capital markets / hedge fund / private equity'\n",
            " 'individual / family services' 'online publishing'\n",
            " 'civic / social organization' 'arts / crafts' 'consumer goods' 'printing'\n",
            " 'mental health care' 'management consulting' 'broadcast media' 'farming'\n",
            " 'entertainment / movie production' 'international trade / development'\n",
            " 'business supplies / equipment' 'marketing / advertising / sales'\n",
            " 'textiles' 'consumer electronics' 'building materials'\n",
            " 'public relations / pr' 'information technology / it' 'military industry'\n",
            " 'wireless' 'international affairs' 'accounting'\n",
            " 'computer software / engineering' 'law enforcement' 'financial services'\n",
            " 'religious institutions' 'alternative dispute resolution'\n",
            " 'telecommunications' 'semiconductors' 'newspapers / journalism'\n",
            " 'gambling / casinos' 'photography' 'consumer services'\n",
            " 'education management']\n"
          ]
        }
      ]
    },
    {
      "cell_type": "code",
      "source": [
        "# Optional minor fix: remove extra spaces around slashes and hyphens\n",
        "df['industry'] = df['industry'].str.replace(r'\\s*/\\s*', ' / ', regex=True)\n",
        "df['industry'] = df['industry'].str.replace(r'\\s*-\\s*', '-', regex=True)\n"
      ],
      "metadata": {
        "id": "cVXybqdjKTZW"
      },
      "execution_count": 75,
      "outputs": []
    },
    {
      "cell_type": "code",
      "source": [
        "print(df['industry'].unique())"
      ],
      "metadata": {
        "colab": {
          "base_uri": "https://localhost:8080/"
        },
        "id": "ji7Sr6-QKe_l",
        "outputId": "1ee8d20f-bb1e-4de7-cde6-5284f0ca419b"
      },
      "execution_count": 76,
      "outputs": [
        {
          "output_type": "stream",
          "name": "stdout",
          "text": [
            "['plastics' 'glass / ceramics / concrete' 'public safety' 'automotive'\n",
            " 'transportation' 'primary / secondary education' 'publishing industry'\n",
            " 'import / export' 'outsourcing / offshoring' 'food / beverages'\n",
            " 'museums / institutions' 'medical practice' 'maritime'\n",
            " 'facilities services'\n",
            " 'investment management / hedge fund / private equity'\n",
            " 'architecture / planning' 'wholesale' 'construction'\n",
            " 'luxury goods / jewelry' 'pharmaceuticals' 'insurance'\n",
            " 'real estate / mortgage' 'banking / mortgage' 'legal services'\n",
            " 'logistics / procurement' 'civil engineering'\n",
            " 'mechanical or industrial engineering' 'hospitality'\n",
            " 'venture capital / vc' 'utilities' 'human resources / hr'\n",
            " 'legislative office' 'music' 'electrical / electronic manufacturing'\n",
            " 'non-profit / volunteering' 'writing / editing'\n",
            " 'capital markets / hedge fund / private equity'\n",
            " 'individual / family services' 'online publishing'\n",
            " 'civic / social organization' 'arts / crafts' 'consumer goods' 'printing'\n",
            " 'mental health care' 'management consulting' 'broadcast media' 'farming'\n",
            " 'entertainment / movie production' 'international trade / development'\n",
            " 'business supplies / equipment' 'marketing / advertising / sales'\n",
            " 'textiles' 'consumer electronics' 'building materials'\n",
            " 'public relations / pr' 'information technology / it' 'military industry'\n",
            " 'wireless' 'international affairs' 'accounting'\n",
            " 'computer software / engineering' 'law enforcement' 'financial services'\n",
            " 'religious institutions' 'alternative dispute resolution'\n",
            " 'telecommunications' 'semiconductors' 'newspapers / journalism'\n",
            " 'gambling / casinos' 'photography' 'consumer services'\n",
            " 'education management']\n"
          ]
        }
      ]
    },
    {
      "cell_type": "markdown",
      "source": [
        "SAVING THE CLEANED DATASET"
      ],
      "metadata": {
        "id": "xaVIh-gmKzAP"
      }
    },
    {
      "cell_type": "code",
      "source": [
        "# Save the cleaned dataset\n",
        "df.to_csv(\"cleaned_organizations.csv\", index=False)\n",
        "print(\"Saved as 'cleaned_organizations.csv'\")\n"
      ],
      "metadata": {
        "colab": {
          "base_uri": "https://localhost:8080/"
        },
        "id": "sl77nlLlKtGD",
        "outputId": "2bd2b10d-cfc2-456d-c317-f7a2821ee45b"
      },
      "execution_count": 77,
      "outputs": [
        {
          "output_type": "stream",
          "name": "stdout",
          "text": [
            "Saved as 'cleaned_organizations.csv'\n"
          ]
        }
      ]
    },
    {
      "cell_type": "markdown",
      "source": [
        "# Intermediate Datasets (3)"
      ],
      "metadata": {
        "id": "UOc0r--UUyOe"
      }
    },
    {
      "cell_type": "markdown",
      "source": [
        "## Retail Sales Data\n",
        "○ Description: Sales transactions with date parsing issues, outliers in\n",
        "sales/quantity, and store/item ID inconsistencies."
      ],
      "metadata": {
        "id": "bqjQSpVAU7td"
      }
    },
    {
      "cell_type": "code",
      "source": [
        "import pandas as pd\n",
        "import numpy as np\n",
        "import matplotlib.pyplot as plt\n",
        "import seaborn as sns\n",
        "\n",
        "# Load the dataset\n",
        "data = pd.read_csv('train.csv')"
      ],
      "metadata": {
        "id": "uFsvLzEFU1sX"
      },
      "execution_count": 38,
      "outputs": []
    },
    {
      "cell_type": "code",
      "source": [
        "data"
      ],
      "metadata": {
        "id": "bVIWCXFTrg-l",
        "colab": {
          "base_uri": "https://localhost:8080/",
          "height": 423
        },
        "outputId": "4cbf3e3f-c936-4353-da76-b3a9f6868f26"
      },
      "execution_count": 39,
      "outputs": [
        {
          "output_type": "execute_result",
          "data": {
            "text/plain": [
              "              date  store  item  sales\n",
              "0       2013-01-01      1     1     13\n",
              "1       2013-01-02      1     1     11\n",
              "2       2013-01-03      1     1     14\n",
              "3       2013-01-04      1     1     13\n",
              "4       2013-01-05      1     1     10\n",
              "...            ...    ...   ...    ...\n",
              "912995  2017-12-27     10    50     63\n",
              "912996  2017-12-28     10    50     59\n",
              "912997  2017-12-29     10    50     74\n",
              "912998  2017-12-30     10    50     62\n",
              "912999  2017-12-31     10    50     82\n",
              "\n",
              "[913000 rows x 4 columns]"
            ],
            "text/html": [
              "\n",
              "  <div id=\"df-a15b8957-0af9-4177-bf0f-016aa77d806c\" class=\"colab-df-container\">\n",
              "    <div>\n",
              "<style scoped>\n",
              "    .dataframe tbody tr th:only-of-type {\n",
              "        vertical-align: middle;\n",
              "    }\n",
              "\n",
              "    .dataframe tbody tr th {\n",
              "        vertical-align: top;\n",
              "    }\n",
              "\n",
              "    .dataframe thead th {\n",
              "        text-align: right;\n",
              "    }\n",
              "</style>\n",
              "<table border=\"1\" class=\"dataframe\">\n",
              "  <thead>\n",
              "    <tr style=\"text-align: right;\">\n",
              "      <th></th>\n",
              "      <th>date</th>\n",
              "      <th>store</th>\n",
              "      <th>item</th>\n",
              "      <th>sales</th>\n",
              "    </tr>\n",
              "  </thead>\n",
              "  <tbody>\n",
              "    <tr>\n",
              "      <th>0</th>\n",
              "      <td>2013-01-01</td>\n",
              "      <td>1</td>\n",
              "      <td>1</td>\n",
              "      <td>13</td>\n",
              "    </tr>\n",
              "    <tr>\n",
              "      <th>1</th>\n",
              "      <td>2013-01-02</td>\n",
              "      <td>1</td>\n",
              "      <td>1</td>\n",
              "      <td>11</td>\n",
              "    </tr>\n",
              "    <tr>\n",
              "      <th>2</th>\n",
              "      <td>2013-01-03</td>\n",
              "      <td>1</td>\n",
              "      <td>1</td>\n",
              "      <td>14</td>\n",
              "    </tr>\n",
              "    <tr>\n",
              "      <th>3</th>\n",
              "      <td>2013-01-04</td>\n",
              "      <td>1</td>\n",
              "      <td>1</td>\n",
              "      <td>13</td>\n",
              "    </tr>\n",
              "    <tr>\n",
              "      <th>4</th>\n",
              "      <td>2013-01-05</td>\n",
              "      <td>1</td>\n",
              "      <td>1</td>\n",
              "      <td>10</td>\n",
              "    </tr>\n",
              "    <tr>\n",
              "      <th>...</th>\n",
              "      <td>...</td>\n",
              "      <td>...</td>\n",
              "      <td>...</td>\n",
              "      <td>...</td>\n",
              "    </tr>\n",
              "    <tr>\n",
              "      <th>912995</th>\n",
              "      <td>2017-12-27</td>\n",
              "      <td>10</td>\n",
              "      <td>50</td>\n",
              "      <td>63</td>\n",
              "    </tr>\n",
              "    <tr>\n",
              "      <th>912996</th>\n",
              "      <td>2017-12-28</td>\n",
              "      <td>10</td>\n",
              "      <td>50</td>\n",
              "      <td>59</td>\n",
              "    </tr>\n",
              "    <tr>\n",
              "      <th>912997</th>\n",
              "      <td>2017-12-29</td>\n",
              "      <td>10</td>\n",
              "      <td>50</td>\n",
              "      <td>74</td>\n",
              "    </tr>\n",
              "    <tr>\n",
              "      <th>912998</th>\n",
              "      <td>2017-12-30</td>\n",
              "      <td>10</td>\n",
              "      <td>50</td>\n",
              "      <td>62</td>\n",
              "    </tr>\n",
              "    <tr>\n",
              "      <th>912999</th>\n",
              "      <td>2017-12-31</td>\n",
              "      <td>10</td>\n",
              "      <td>50</td>\n",
              "      <td>82</td>\n",
              "    </tr>\n",
              "  </tbody>\n",
              "</table>\n",
              "<p>913000 rows × 4 columns</p>\n",
              "</div>\n",
              "    <div class=\"colab-df-buttons\">\n",
              "\n",
              "  <div class=\"colab-df-container\">\n",
              "    <button class=\"colab-df-convert\" onclick=\"convertToInteractive('df-a15b8957-0af9-4177-bf0f-016aa77d806c')\"\n",
              "            title=\"Convert this dataframe to an interactive table.\"\n",
              "            style=\"display:none;\">\n",
              "\n",
              "  <svg xmlns=\"http://www.w3.org/2000/svg\" height=\"24px\" viewBox=\"0 -960 960 960\">\n",
              "    <path d=\"M120-120v-720h720v720H120Zm60-500h600v-160H180v160Zm220 220h160v-160H400v160Zm0 220h160v-160H400v160ZM180-400h160v-160H180v160Zm440 0h160v-160H620v160ZM180-180h160v-160H180v160Zm440 0h160v-160H620v160Z\"/>\n",
              "  </svg>\n",
              "    </button>\n",
              "\n",
              "  <style>\n",
              "    .colab-df-container {\n",
              "      display:flex;\n",
              "      gap: 12px;\n",
              "    }\n",
              "\n",
              "    .colab-df-convert {\n",
              "      background-color: #E8F0FE;\n",
              "      border: none;\n",
              "      border-radius: 50%;\n",
              "      cursor: pointer;\n",
              "      display: none;\n",
              "      fill: #1967D2;\n",
              "      height: 32px;\n",
              "      padding: 0 0 0 0;\n",
              "      width: 32px;\n",
              "    }\n",
              "\n",
              "    .colab-df-convert:hover {\n",
              "      background-color: #E2EBFA;\n",
              "      box-shadow: 0px 1px 2px rgba(60, 64, 67, 0.3), 0px 1px 3px 1px rgba(60, 64, 67, 0.15);\n",
              "      fill: #174EA6;\n",
              "    }\n",
              "\n",
              "    .colab-df-buttons div {\n",
              "      margin-bottom: 4px;\n",
              "    }\n",
              "\n",
              "    [theme=dark] .colab-df-convert {\n",
              "      background-color: #3B4455;\n",
              "      fill: #D2E3FC;\n",
              "    }\n",
              "\n",
              "    [theme=dark] .colab-df-convert:hover {\n",
              "      background-color: #434B5C;\n",
              "      box-shadow: 0px 1px 3px 1px rgba(0, 0, 0, 0.15);\n",
              "      filter: drop-shadow(0px 1px 2px rgba(0, 0, 0, 0.3));\n",
              "      fill: #FFFFFF;\n",
              "    }\n",
              "  </style>\n",
              "\n",
              "    <script>\n",
              "      const buttonEl =\n",
              "        document.querySelector('#df-a15b8957-0af9-4177-bf0f-016aa77d806c button.colab-df-convert');\n",
              "      buttonEl.style.display =\n",
              "        google.colab.kernel.accessAllowed ? 'block' : 'none';\n",
              "\n",
              "      async function convertToInteractive(key) {\n",
              "        const element = document.querySelector('#df-a15b8957-0af9-4177-bf0f-016aa77d806c');\n",
              "        const dataTable =\n",
              "          await google.colab.kernel.invokeFunction('convertToInteractive',\n",
              "                                                    [key], {});\n",
              "        if (!dataTable) return;\n",
              "\n",
              "        const docLinkHtml = 'Like what you see? Visit the ' +\n",
              "          '<a target=\"_blank\" href=https://colab.research.google.com/notebooks/data_table.ipynb>data table notebook</a>'\n",
              "          + ' to learn more about interactive tables.';\n",
              "        element.innerHTML = '';\n",
              "        dataTable['output_type'] = 'display_data';\n",
              "        await google.colab.output.renderOutput(dataTable, element);\n",
              "        const docLink = document.createElement('div');\n",
              "        docLink.innerHTML = docLinkHtml;\n",
              "        element.appendChild(docLink);\n",
              "      }\n",
              "    </script>\n",
              "  </div>\n",
              "\n",
              "\n",
              "    <div id=\"df-2b9e8795-fe51-444b-9c4b-9fd2a7ab0af3\">\n",
              "      <button class=\"colab-df-quickchart\" onclick=\"quickchart('df-2b9e8795-fe51-444b-9c4b-9fd2a7ab0af3')\"\n",
              "                title=\"Suggest charts\"\n",
              "                style=\"display:none;\">\n",
              "\n",
              "<svg xmlns=\"http://www.w3.org/2000/svg\" height=\"24px\"viewBox=\"0 0 24 24\"\n",
              "     width=\"24px\">\n",
              "    <g>\n",
              "        <path d=\"M19 3H5c-1.1 0-2 .9-2 2v14c0 1.1.9 2 2 2h14c1.1 0 2-.9 2-2V5c0-1.1-.9-2-2-2zM9 17H7v-7h2v7zm4 0h-2V7h2v10zm4 0h-2v-4h2v4z\"/>\n",
              "    </g>\n",
              "</svg>\n",
              "      </button>\n",
              "\n",
              "<style>\n",
              "  .colab-df-quickchart {\n",
              "      --bg-color: #E8F0FE;\n",
              "      --fill-color: #1967D2;\n",
              "      --hover-bg-color: #E2EBFA;\n",
              "      --hover-fill-color: #174EA6;\n",
              "      --disabled-fill-color: #AAA;\n",
              "      --disabled-bg-color: #DDD;\n",
              "  }\n",
              "\n",
              "  [theme=dark] .colab-df-quickchart {\n",
              "      --bg-color: #3B4455;\n",
              "      --fill-color: #D2E3FC;\n",
              "      --hover-bg-color: #434B5C;\n",
              "      --hover-fill-color: #FFFFFF;\n",
              "      --disabled-bg-color: #3B4455;\n",
              "      --disabled-fill-color: #666;\n",
              "  }\n",
              "\n",
              "  .colab-df-quickchart {\n",
              "    background-color: var(--bg-color);\n",
              "    border: none;\n",
              "    border-radius: 50%;\n",
              "    cursor: pointer;\n",
              "    display: none;\n",
              "    fill: var(--fill-color);\n",
              "    height: 32px;\n",
              "    padding: 0;\n",
              "    width: 32px;\n",
              "  }\n",
              "\n",
              "  .colab-df-quickchart:hover {\n",
              "    background-color: var(--hover-bg-color);\n",
              "    box-shadow: 0 1px 2px rgba(60, 64, 67, 0.3), 0 1px 3px 1px rgba(60, 64, 67, 0.15);\n",
              "    fill: var(--button-hover-fill-color);\n",
              "  }\n",
              "\n",
              "  .colab-df-quickchart-complete:disabled,\n",
              "  .colab-df-quickchart-complete:disabled:hover {\n",
              "    background-color: var(--disabled-bg-color);\n",
              "    fill: var(--disabled-fill-color);\n",
              "    box-shadow: none;\n",
              "  }\n",
              "\n",
              "  .colab-df-spinner {\n",
              "    border: 2px solid var(--fill-color);\n",
              "    border-color: transparent;\n",
              "    border-bottom-color: var(--fill-color);\n",
              "    animation:\n",
              "      spin 1s steps(1) infinite;\n",
              "  }\n",
              "\n",
              "  @keyframes spin {\n",
              "    0% {\n",
              "      border-color: transparent;\n",
              "      border-bottom-color: var(--fill-color);\n",
              "      border-left-color: var(--fill-color);\n",
              "    }\n",
              "    20% {\n",
              "      border-color: transparent;\n",
              "      border-left-color: var(--fill-color);\n",
              "      border-top-color: var(--fill-color);\n",
              "    }\n",
              "    30% {\n",
              "      border-color: transparent;\n",
              "      border-left-color: var(--fill-color);\n",
              "      border-top-color: var(--fill-color);\n",
              "      border-right-color: var(--fill-color);\n",
              "    }\n",
              "    40% {\n",
              "      border-color: transparent;\n",
              "      border-right-color: var(--fill-color);\n",
              "      border-top-color: var(--fill-color);\n",
              "    }\n",
              "    60% {\n",
              "      border-color: transparent;\n",
              "      border-right-color: var(--fill-color);\n",
              "    }\n",
              "    80% {\n",
              "      border-color: transparent;\n",
              "      border-right-color: var(--fill-color);\n",
              "      border-bottom-color: var(--fill-color);\n",
              "    }\n",
              "    90% {\n",
              "      border-color: transparent;\n",
              "      border-bottom-color: var(--fill-color);\n",
              "    }\n",
              "  }\n",
              "</style>\n",
              "\n",
              "      <script>\n",
              "        async function quickchart(key) {\n",
              "          const quickchartButtonEl =\n",
              "            document.querySelector('#' + key + ' button');\n",
              "          quickchartButtonEl.disabled = true;  // To prevent multiple clicks.\n",
              "          quickchartButtonEl.classList.add('colab-df-spinner');\n",
              "          try {\n",
              "            const charts = await google.colab.kernel.invokeFunction(\n",
              "                'suggestCharts', [key], {});\n",
              "          } catch (error) {\n",
              "            console.error('Error during call to suggestCharts:', error);\n",
              "          }\n",
              "          quickchartButtonEl.classList.remove('colab-df-spinner');\n",
              "          quickchartButtonEl.classList.add('colab-df-quickchart-complete');\n",
              "        }\n",
              "        (() => {\n",
              "          let quickchartButtonEl =\n",
              "            document.querySelector('#df-2b9e8795-fe51-444b-9c4b-9fd2a7ab0af3 button');\n",
              "          quickchartButtonEl.style.display =\n",
              "            google.colab.kernel.accessAllowed ? 'block' : 'none';\n",
              "        })();\n",
              "      </script>\n",
              "    </div>\n",
              "\n",
              "  <div id=\"id_5878bdb0-f9f9-4c0c-8934-29d69ff926a1\">\n",
              "    <style>\n",
              "      .colab-df-generate {\n",
              "        background-color: #E8F0FE;\n",
              "        border: none;\n",
              "        border-radius: 50%;\n",
              "        cursor: pointer;\n",
              "        display: none;\n",
              "        fill: #1967D2;\n",
              "        height: 32px;\n",
              "        padding: 0 0 0 0;\n",
              "        width: 32px;\n",
              "      }\n",
              "\n",
              "      .colab-df-generate:hover {\n",
              "        background-color: #E2EBFA;\n",
              "        box-shadow: 0px 1px 2px rgba(60, 64, 67, 0.3), 0px 1px 3px 1px rgba(60, 64, 67, 0.15);\n",
              "        fill: #174EA6;\n",
              "      }\n",
              "\n",
              "      [theme=dark] .colab-df-generate {\n",
              "        background-color: #3B4455;\n",
              "        fill: #D2E3FC;\n",
              "      }\n",
              "\n",
              "      [theme=dark] .colab-df-generate:hover {\n",
              "        background-color: #434B5C;\n",
              "        box-shadow: 0px 1px 3px 1px rgba(0, 0, 0, 0.15);\n",
              "        filter: drop-shadow(0px 1px 2px rgba(0, 0, 0, 0.3));\n",
              "        fill: #FFFFFF;\n",
              "      }\n",
              "    </style>\n",
              "    <button class=\"colab-df-generate\" onclick=\"generateWithVariable('data')\"\n",
              "            title=\"Generate code using this dataframe.\"\n",
              "            style=\"display:none;\">\n",
              "\n",
              "  <svg xmlns=\"http://www.w3.org/2000/svg\" height=\"24px\"viewBox=\"0 0 24 24\"\n",
              "       width=\"24px\">\n",
              "    <path d=\"M7,19H8.4L18.45,9,17,7.55,7,17.6ZM5,21V16.75L18.45,3.32a2,2,0,0,1,2.83,0l1.4,1.43a1.91,1.91,0,0,1,.58,1.4,1.91,1.91,0,0,1-.58,1.4L9.25,21ZM18.45,9,17,7.55Zm-12,3A5.31,5.31,0,0,0,4.9,8.1,5.31,5.31,0,0,0,1,6.5,5.31,5.31,0,0,0,4.9,4.9,5.31,5.31,0,0,0,6.5,1,5.31,5.31,0,0,0,8.1,4.9,5.31,5.31,0,0,0,12,6.5,5.46,5.46,0,0,0,6.5,12Z\"/>\n",
              "  </svg>\n",
              "    </button>\n",
              "    <script>\n",
              "      (() => {\n",
              "      const buttonEl =\n",
              "        document.querySelector('#id_5878bdb0-f9f9-4c0c-8934-29d69ff926a1 button.colab-df-generate');\n",
              "      buttonEl.style.display =\n",
              "        google.colab.kernel.accessAllowed ? 'block' : 'none';\n",
              "\n",
              "      buttonEl.onclick = () => {\n",
              "        google.colab.notebook.generateWithVariable('data');\n",
              "      }\n",
              "      })();\n",
              "    </script>\n",
              "  </div>\n",
              "\n",
              "    </div>\n",
              "  </div>\n"
            ],
            "application/vnd.google.colaboratory.intrinsic+json": {
              "type": "dataframe",
              "variable_name": "data"
            }
          },
          "metadata": {},
          "execution_count": 39
        }
      ]
    },
    {
      "cell_type": "code",
      "source": [
        "# Display the first few rows of the dataset\n",
        "data.head()"
      ],
      "metadata": {
        "colab": {
          "base_uri": "https://localhost:8080/",
          "height": 206
        },
        "id": "NVq1fqwYsa6W",
        "outputId": "da7a2a51-6bb3-4627-bde3-4412612ec783"
      },
      "execution_count": 40,
      "outputs": [
        {
          "output_type": "execute_result",
          "data": {
            "text/plain": [
              "         date  store  item  sales\n",
              "0  2013-01-01      1     1     13\n",
              "1  2013-01-02      1     1     11\n",
              "2  2013-01-03      1     1     14\n",
              "3  2013-01-04      1     1     13\n",
              "4  2013-01-05      1     1     10"
            ],
            "text/html": [
              "\n",
              "  <div id=\"df-e69cdc33-07b7-4e18-8f1f-75ddf6906460\" class=\"colab-df-container\">\n",
              "    <div>\n",
              "<style scoped>\n",
              "    .dataframe tbody tr th:only-of-type {\n",
              "        vertical-align: middle;\n",
              "    }\n",
              "\n",
              "    .dataframe tbody tr th {\n",
              "        vertical-align: top;\n",
              "    }\n",
              "\n",
              "    .dataframe thead th {\n",
              "        text-align: right;\n",
              "    }\n",
              "</style>\n",
              "<table border=\"1\" class=\"dataframe\">\n",
              "  <thead>\n",
              "    <tr style=\"text-align: right;\">\n",
              "      <th></th>\n",
              "      <th>date</th>\n",
              "      <th>store</th>\n",
              "      <th>item</th>\n",
              "      <th>sales</th>\n",
              "    </tr>\n",
              "  </thead>\n",
              "  <tbody>\n",
              "    <tr>\n",
              "      <th>0</th>\n",
              "      <td>2013-01-01</td>\n",
              "      <td>1</td>\n",
              "      <td>1</td>\n",
              "      <td>13</td>\n",
              "    </tr>\n",
              "    <tr>\n",
              "      <th>1</th>\n",
              "      <td>2013-01-02</td>\n",
              "      <td>1</td>\n",
              "      <td>1</td>\n",
              "      <td>11</td>\n",
              "    </tr>\n",
              "    <tr>\n",
              "      <th>2</th>\n",
              "      <td>2013-01-03</td>\n",
              "      <td>1</td>\n",
              "      <td>1</td>\n",
              "      <td>14</td>\n",
              "    </tr>\n",
              "    <tr>\n",
              "      <th>3</th>\n",
              "      <td>2013-01-04</td>\n",
              "      <td>1</td>\n",
              "      <td>1</td>\n",
              "      <td>13</td>\n",
              "    </tr>\n",
              "    <tr>\n",
              "      <th>4</th>\n",
              "      <td>2013-01-05</td>\n",
              "      <td>1</td>\n",
              "      <td>1</td>\n",
              "      <td>10</td>\n",
              "    </tr>\n",
              "  </tbody>\n",
              "</table>\n",
              "</div>\n",
              "    <div class=\"colab-df-buttons\">\n",
              "\n",
              "  <div class=\"colab-df-container\">\n",
              "    <button class=\"colab-df-convert\" onclick=\"convertToInteractive('df-e69cdc33-07b7-4e18-8f1f-75ddf6906460')\"\n",
              "            title=\"Convert this dataframe to an interactive table.\"\n",
              "            style=\"display:none;\">\n",
              "\n",
              "  <svg xmlns=\"http://www.w3.org/2000/svg\" height=\"24px\" viewBox=\"0 -960 960 960\">\n",
              "    <path d=\"M120-120v-720h720v720H120Zm60-500h600v-160H180v160Zm220 220h160v-160H400v160Zm0 220h160v-160H400v160ZM180-400h160v-160H180v160Zm440 0h160v-160H620v160ZM180-180h160v-160H180v160Zm440 0h160v-160H620v160Z\"/>\n",
              "  </svg>\n",
              "    </button>\n",
              "\n",
              "  <style>\n",
              "    .colab-df-container {\n",
              "      display:flex;\n",
              "      gap: 12px;\n",
              "    }\n",
              "\n",
              "    .colab-df-convert {\n",
              "      background-color: #E8F0FE;\n",
              "      border: none;\n",
              "      border-radius: 50%;\n",
              "      cursor: pointer;\n",
              "      display: none;\n",
              "      fill: #1967D2;\n",
              "      height: 32px;\n",
              "      padding: 0 0 0 0;\n",
              "      width: 32px;\n",
              "    }\n",
              "\n",
              "    .colab-df-convert:hover {\n",
              "      background-color: #E2EBFA;\n",
              "      box-shadow: 0px 1px 2px rgba(60, 64, 67, 0.3), 0px 1px 3px 1px rgba(60, 64, 67, 0.15);\n",
              "      fill: #174EA6;\n",
              "    }\n",
              "\n",
              "    .colab-df-buttons div {\n",
              "      margin-bottom: 4px;\n",
              "    }\n",
              "\n",
              "    [theme=dark] .colab-df-convert {\n",
              "      background-color: #3B4455;\n",
              "      fill: #D2E3FC;\n",
              "    }\n",
              "\n",
              "    [theme=dark] .colab-df-convert:hover {\n",
              "      background-color: #434B5C;\n",
              "      box-shadow: 0px 1px 3px 1px rgba(0, 0, 0, 0.15);\n",
              "      filter: drop-shadow(0px 1px 2px rgba(0, 0, 0, 0.3));\n",
              "      fill: #FFFFFF;\n",
              "    }\n",
              "  </style>\n",
              "\n",
              "    <script>\n",
              "      const buttonEl =\n",
              "        document.querySelector('#df-e69cdc33-07b7-4e18-8f1f-75ddf6906460 button.colab-df-convert');\n",
              "      buttonEl.style.display =\n",
              "        google.colab.kernel.accessAllowed ? 'block' : 'none';\n",
              "\n",
              "      async function convertToInteractive(key) {\n",
              "        const element = document.querySelector('#df-e69cdc33-07b7-4e18-8f1f-75ddf6906460');\n",
              "        const dataTable =\n",
              "          await google.colab.kernel.invokeFunction('convertToInteractive',\n",
              "                                                    [key], {});\n",
              "        if (!dataTable) return;\n",
              "\n",
              "        const docLinkHtml = 'Like what you see? Visit the ' +\n",
              "          '<a target=\"_blank\" href=https://colab.research.google.com/notebooks/data_table.ipynb>data table notebook</a>'\n",
              "          + ' to learn more about interactive tables.';\n",
              "        element.innerHTML = '';\n",
              "        dataTable['output_type'] = 'display_data';\n",
              "        await google.colab.output.renderOutput(dataTable, element);\n",
              "        const docLink = document.createElement('div');\n",
              "        docLink.innerHTML = docLinkHtml;\n",
              "        element.appendChild(docLink);\n",
              "      }\n",
              "    </script>\n",
              "  </div>\n",
              "\n",
              "\n",
              "    <div id=\"df-302dc4c5-ada3-4982-95bc-b547c2dfdb87\">\n",
              "      <button class=\"colab-df-quickchart\" onclick=\"quickchart('df-302dc4c5-ada3-4982-95bc-b547c2dfdb87')\"\n",
              "                title=\"Suggest charts\"\n",
              "                style=\"display:none;\">\n",
              "\n",
              "<svg xmlns=\"http://www.w3.org/2000/svg\" height=\"24px\"viewBox=\"0 0 24 24\"\n",
              "     width=\"24px\">\n",
              "    <g>\n",
              "        <path d=\"M19 3H5c-1.1 0-2 .9-2 2v14c0 1.1.9 2 2 2h14c1.1 0 2-.9 2-2V5c0-1.1-.9-2-2-2zM9 17H7v-7h2v7zm4 0h-2V7h2v10zm4 0h-2v-4h2v4z\"/>\n",
              "    </g>\n",
              "</svg>\n",
              "      </button>\n",
              "\n",
              "<style>\n",
              "  .colab-df-quickchart {\n",
              "      --bg-color: #E8F0FE;\n",
              "      --fill-color: #1967D2;\n",
              "      --hover-bg-color: #E2EBFA;\n",
              "      --hover-fill-color: #174EA6;\n",
              "      --disabled-fill-color: #AAA;\n",
              "      --disabled-bg-color: #DDD;\n",
              "  }\n",
              "\n",
              "  [theme=dark] .colab-df-quickchart {\n",
              "      --bg-color: #3B4455;\n",
              "      --fill-color: #D2E3FC;\n",
              "      --hover-bg-color: #434B5C;\n",
              "      --hover-fill-color: #FFFFFF;\n",
              "      --disabled-bg-color: #3B4455;\n",
              "      --disabled-fill-color: #666;\n",
              "  }\n",
              "\n",
              "  .colab-df-quickchart {\n",
              "    background-color: var(--bg-color);\n",
              "    border: none;\n",
              "    border-radius: 50%;\n",
              "    cursor: pointer;\n",
              "    display: none;\n",
              "    fill: var(--fill-color);\n",
              "    height: 32px;\n",
              "    padding: 0;\n",
              "    width: 32px;\n",
              "  }\n",
              "\n",
              "  .colab-df-quickchart:hover {\n",
              "    background-color: var(--hover-bg-color);\n",
              "    box-shadow: 0 1px 2px rgba(60, 64, 67, 0.3), 0 1px 3px 1px rgba(60, 64, 67, 0.15);\n",
              "    fill: var(--button-hover-fill-color);\n",
              "  }\n",
              "\n",
              "  .colab-df-quickchart-complete:disabled,\n",
              "  .colab-df-quickchart-complete:disabled:hover {\n",
              "    background-color: var(--disabled-bg-color);\n",
              "    fill: var(--disabled-fill-color);\n",
              "    box-shadow: none;\n",
              "  }\n",
              "\n",
              "  .colab-df-spinner {\n",
              "    border: 2px solid var(--fill-color);\n",
              "    border-color: transparent;\n",
              "    border-bottom-color: var(--fill-color);\n",
              "    animation:\n",
              "      spin 1s steps(1) infinite;\n",
              "  }\n",
              "\n",
              "  @keyframes spin {\n",
              "    0% {\n",
              "      border-color: transparent;\n",
              "      border-bottom-color: var(--fill-color);\n",
              "      border-left-color: var(--fill-color);\n",
              "    }\n",
              "    20% {\n",
              "      border-color: transparent;\n",
              "      border-left-color: var(--fill-color);\n",
              "      border-top-color: var(--fill-color);\n",
              "    }\n",
              "    30% {\n",
              "      border-color: transparent;\n",
              "      border-left-color: var(--fill-color);\n",
              "      border-top-color: var(--fill-color);\n",
              "      border-right-color: var(--fill-color);\n",
              "    }\n",
              "    40% {\n",
              "      border-color: transparent;\n",
              "      border-right-color: var(--fill-color);\n",
              "      border-top-color: var(--fill-color);\n",
              "    }\n",
              "    60% {\n",
              "      border-color: transparent;\n",
              "      border-right-color: var(--fill-color);\n",
              "    }\n",
              "    80% {\n",
              "      border-color: transparent;\n",
              "      border-right-color: var(--fill-color);\n",
              "      border-bottom-color: var(--fill-color);\n",
              "    }\n",
              "    90% {\n",
              "      border-color: transparent;\n",
              "      border-bottom-color: var(--fill-color);\n",
              "    }\n",
              "  }\n",
              "</style>\n",
              "\n",
              "      <script>\n",
              "        async function quickchart(key) {\n",
              "          const quickchartButtonEl =\n",
              "            document.querySelector('#' + key + ' button');\n",
              "          quickchartButtonEl.disabled = true;  // To prevent multiple clicks.\n",
              "          quickchartButtonEl.classList.add('colab-df-spinner');\n",
              "          try {\n",
              "            const charts = await google.colab.kernel.invokeFunction(\n",
              "                'suggestCharts', [key], {});\n",
              "          } catch (error) {\n",
              "            console.error('Error during call to suggestCharts:', error);\n",
              "          }\n",
              "          quickchartButtonEl.classList.remove('colab-df-spinner');\n",
              "          quickchartButtonEl.classList.add('colab-df-quickchart-complete');\n",
              "        }\n",
              "        (() => {\n",
              "          let quickchartButtonEl =\n",
              "            document.querySelector('#df-302dc4c5-ada3-4982-95bc-b547c2dfdb87 button');\n",
              "          quickchartButtonEl.style.display =\n",
              "            google.colab.kernel.accessAllowed ? 'block' : 'none';\n",
              "        })();\n",
              "      </script>\n",
              "    </div>\n",
              "\n",
              "    </div>\n",
              "  </div>\n"
            ],
            "application/vnd.google.colaboratory.intrinsic+json": {
              "type": "dataframe",
              "variable_name": "data"
            }
          },
          "metadata": {},
          "execution_count": 40
        }
      ]
    },
    {
      "cell_type": "code",
      "source": [
        "# Get summary statistics\n",
        "data.describe()"
      ],
      "metadata": {
        "colab": {
          "base_uri": "https://localhost:8080/",
          "height": 300
        },
        "id": "NMvBy_aluAyk",
        "outputId": "07ecaf6a-6716-42ce-e682-4ef86d69b736"
      },
      "execution_count": 41,
      "outputs": [
        {
          "output_type": "execute_result",
          "data": {
            "text/plain": [
              "               store           item          sales\n",
              "count  913000.000000  913000.000000  913000.000000\n",
              "mean        5.500000      25.500000      52.250287\n",
              "std         2.872283      14.430878      28.801144\n",
              "min         1.000000       1.000000       0.000000\n",
              "25%         3.000000      13.000000      30.000000\n",
              "50%         5.500000      25.500000      47.000000\n",
              "75%         8.000000      38.000000      70.000000\n",
              "max        10.000000      50.000000     231.000000"
            ],
            "text/html": [
              "\n",
              "  <div id=\"df-a8d38e6d-9038-4a4e-8b3e-707c2ef71ede\" class=\"colab-df-container\">\n",
              "    <div>\n",
              "<style scoped>\n",
              "    .dataframe tbody tr th:only-of-type {\n",
              "        vertical-align: middle;\n",
              "    }\n",
              "\n",
              "    .dataframe tbody tr th {\n",
              "        vertical-align: top;\n",
              "    }\n",
              "\n",
              "    .dataframe thead th {\n",
              "        text-align: right;\n",
              "    }\n",
              "</style>\n",
              "<table border=\"1\" class=\"dataframe\">\n",
              "  <thead>\n",
              "    <tr style=\"text-align: right;\">\n",
              "      <th></th>\n",
              "      <th>store</th>\n",
              "      <th>item</th>\n",
              "      <th>sales</th>\n",
              "    </tr>\n",
              "  </thead>\n",
              "  <tbody>\n",
              "    <tr>\n",
              "      <th>count</th>\n",
              "      <td>913000.000000</td>\n",
              "      <td>913000.000000</td>\n",
              "      <td>913000.000000</td>\n",
              "    </tr>\n",
              "    <tr>\n",
              "      <th>mean</th>\n",
              "      <td>5.500000</td>\n",
              "      <td>25.500000</td>\n",
              "      <td>52.250287</td>\n",
              "    </tr>\n",
              "    <tr>\n",
              "      <th>std</th>\n",
              "      <td>2.872283</td>\n",
              "      <td>14.430878</td>\n",
              "      <td>28.801144</td>\n",
              "    </tr>\n",
              "    <tr>\n",
              "      <th>min</th>\n",
              "      <td>1.000000</td>\n",
              "      <td>1.000000</td>\n",
              "      <td>0.000000</td>\n",
              "    </tr>\n",
              "    <tr>\n",
              "      <th>25%</th>\n",
              "      <td>3.000000</td>\n",
              "      <td>13.000000</td>\n",
              "      <td>30.000000</td>\n",
              "    </tr>\n",
              "    <tr>\n",
              "      <th>50%</th>\n",
              "      <td>5.500000</td>\n",
              "      <td>25.500000</td>\n",
              "      <td>47.000000</td>\n",
              "    </tr>\n",
              "    <tr>\n",
              "      <th>75%</th>\n",
              "      <td>8.000000</td>\n",
              "      <td>38.000000</td>\n",
              "      <td>70.000000</td>\n",
              "    </tr>\n",
              "    <tr>\n",
              "      <th>max</th>\n",
              "      <td>10.000000</td>\n",
              "      <td>50.000000</td>\n",
              "      <td>231.000000</td>\n",
              "    </tr>\n",
              "  </tbody>\n",
              "</table>\n",
              "</div>\n",
              "    <div class=\"colab-df-buttons\">\n",
              "\n",
              "  <div class=\"colab-df-container\">\n",
              "    <button class=\"colab-df-convert\" onclick=\"convertToInteractive('df-a8d38e6d-9038-4a4e-8b3e-707c2ef71ede')\"\n",
              "            title=\"Convert this dataframe to an interactive table.\"\n",
              "            style=\"display:none;\">\n",
              "\n",
              "  <svg xmlns=\"http://www.w3.org/2000/svg\" height=\"24px\" viewBox=\"0 -960 960 960\">\n",
              "    <path d=\"M120-120v-720h720v720H120Zm60-500h600v-160H180v160Zm220 220h160v-160H400v160Zm0 220h160v-160H400v160ZM180-400h160v-160H180v160Zm440 0h160v-160H620v160ZM180-180h160v-160H180v160Zm440 0h160v-160H620v160Z\"/>\n",
              "  </svg>\n",
              "    </button>\n",
              "\n",
              "  <style>\n",
              "    .colab-df-container {\n",
              "      display:flex;\n",
              "      gap: 12px;\n",
              "    }\n",
              "\n",
              "    .colab-df-convert {\n",
              "      background-color: #E8F0FE;\n",
              "      border: none;\n",
              "      border-radius: 50%;\n",
              "      cursor: pointer;\n",
              "      display: none;\n",
              "      fill: #1967D2;\n",
              "      height: 32px;\n",
              "      padding: 0 0 0 0;\n",
              "      width: 32px;\n",
              "    }\n",
              "\n",
              "    .colab-df-convert:hover {\n",
              "      background-color: #E2EBFA;\n",
              "      box-shadow: 0px 1px 2px rgba(60, 64, 67, 0.3), 0px 1px 3px 1px rgba(60, 64, 67, 0.15);\n",
              "      fill: #174EA6;\n",
              "    }\n",
              "\n",
              "    .colab-df-buttons div {\n",
              "      margin-bottom: 4px;\n",
              "    }\n",
              "\n",
              "    [theme=dark] .colab-df-convert {\n",
              "      background-color: #3B4455;\n",
              "      fill: #D2E3FC;\n",
              "    }\n",
              "\n",
              "    [theme=dark] .colab-df-convert:hover {\n",
              "      background-color: #434B5C;\n",
              "      box-shadow: 0px 1px 3px 1px rgba(0, 0, 0, 0.15);\n",
              "      filter: drop-shadow(0px 1px 2px rgba(0, 0, 0, 0.3));\n",
              "      fill: #FFFFFF;\n",
              "    }\n",
              "  </style>\n",
              "\n",
              "    <script>\n",
              "      const buttonEl =\n",
              "        document.querySelector('#df-a8d38e6d-9038-4a4e-8b3e-707c2ef71ede button.colab-df-convert');\n",
              "      buttonEl.style.display =\n",
              "        google.colab.kernel.accessAllowed ? 'block' : 'none';\n",
              "\n",
              "      async function convertToInteractive(key) {\n",
              "        const element = document.querySelector('#df-a8d38e6d-9038-4a4e-8b3e-707c2ef71ede');\n",
              "        const dataTable =\n",
              "          await google.colab.kernel.invokeFunction('convertToInteractive',\n",
              "                                                    [key], {});\n",
              "        if (!dataTable) return;\n",
              "\n",
              "        const docLinkHtml = 'Like what you see? Visit the ' +\n",
              "          '<a target=\"_blank\" href=https://colab.research.google.com/notebooks/data_table.ipynb>data table notebook</a>'\n",
              "          + ' to learn more about interactive tables.';\n",
              "        element.innerHTML = '';\n",
              "        dataTable['output_type'] = 'display_data';\n",
              "        await google.colab.output.renderOutput(dataTable, element);\n",
              "        const docLink = document.createElement('div');\n",
              "        docLink.innerHTML = docLinkHtml;\n",
              "        element.appendChild(docLink);\n",
              "      }\n",
              "    </script>\n",
              "  </div>\n",
              "\n",
              "\n",
              "    <div id=\"df-1bf4940f-1fb2-4855-8b09-e3540746db2c\">\n",
              "      <button class=\"colab-df-quickchart\" onclick=\"quickchart('df-1bf4940f-1fb2-4855-8b09-e3540746db2c')\"\n",
              "                title=\"Suggest charts\"\n",
              "                style=\"display:none;\">\n",
              "\n",
              "<svg xmlns=\"http://www.w3.org/2000/svg\" height=\"24px\"viewBox=\"0 0 24 24\"\n",
              "     width=\"24px\">\n",
              "    <g>\n",
              "        <path d=\"M19 3H5c-1.1 0-2 .9-2 2v14c0 1.1.9 2 2 2h14c1.1 0 2-.9 2-2V5c0-1.1-.9-2-2-2zM9 17H7v-7h2v7zm4 0h-2V7h2v10zm4 0h-2v-4h2v4z\"/>\n",
              "    </g>\n",
              "</svg>\n",
              "      </button>\n",
              "\n",
              "<style>\n",
              "  .colab-df-quickchart {\n",
              "      --bg-color: #E8F0FE;\n",
              "      --fill-color: #1967D2;\n",
              "      --hover-bg-color: #E2EBFA;\n",
              "      --hover-fill-color: #174EA6;\n",
              "      --disabled-fill-color: #AAA;\n",
              "      --disabled-bg-color: #DDD;\n",
              "  }\n",
              "\n",
              "  [theme=dark] .colab-df-quickchart {\n",
              "      --bg-color: #3B4455;\n",
              "      --fill-color: #D2E3FC;\n",
              "      --hover-bg-color: #434B5C;\n",
              "      --hover-fill-color: #FFFFFF;\n",
              "      --disabled-bg-color: #3B4455;\n",
              "      --disabled-fill-color: #666;\n",
              "  }\n",
              "\n",
              "  .colab-df-quickchart {\n",
              "    background-color: var(--bg-color);\n",
              "    border: none;\n",
              "    border-radius: 50%;\n",
              "    cursor: pointer;\n",
              "    display: none;\n",
              "    fill: var(--fill-color);\n",
              "    height: 32px;\n",
              "    padding: 0;\n",
              "    width: 32px;\n",
              "  }\n",
              "\n",
              "  .colab-df-quickchart:hover {\n",
              "    background-color: var(--hover-bg-color);\n",
              "    box-shadow: 0 1px 2px rgba(60, 64, 67, 0.3), 0 1px 3px 1px rgba(60, 64, 67, 0.15);\n",
              "    fill: var(--button-hover-fill-color);\n",
              "  }\n",
              "\n",
              "  .colab-df-quickchart-complete:disabled,\n",
              "  .colab-df-quickchart-complete:disabled:hover {\n",
              "    background-color: var(--disabled-bg-color);\n",
              "    fill: var(--disabled-fill-color);\n",
              "    box-shadow: none;\n",
              "  }\n",
              "\n",
              "  .colab-df-spinner {\n",
              "    border: 2px solid var(--fill-color);\n",
              "    border-color: transparent;\n",
              "    border-bottom-color: var(--fill-color);\n",
              "    animation:\n",
              "      spin 1s steps(1) infinite;\n",
              "  }\n",
              "\n",
              "  @keyframes spin {\n",
              "    0% {\n",
              "      border-color: transparent;\n",
              "      border-bottom-color: var(--fill-color);\n",
              "      border-left-color: var(--fill-color);\n",
              "    }\n",
              "    20% {\n",
              "      border-color: transparent;\n",
              "      border-left-color: var(--fill-color);\n",
              "      border-top-color: var(--fill-color);\n",
              "    }\n",
              "    30% {\n",
              "      border-color: transparent;\n",
              "      border-left-color: var(--fill-color);\n",
              "      border-top-color: var(--fill-color);\n",
              "      border-right-color: var(--fill-color);\n",
              "    }\n",
              "    40% {\n",
              "      border-color: transparent;\n",
              "      border-right-color: var(--fill-color);\n",
              "      border-top-color: var(--fill-color);\n",
              "    }\n",
              "    60% {\n",
              "      border-color: transparent;\n",
              "      border-right-color: var(--fill-color);\n",
              "    }\n",
              "    80% {\n",
              "      border-color: transparent;\n",
              "      border-right-color: var(--fill-color);\n",
              "      border-bottom-color: var(--fill-color);\n",
              "    }\n",
              "    90% {\n",
              "      border-color: transparent;\n",
              "      border-bottom-color: var(--fill-color);\n",
              "    }\n",
              "  }\n",
              "</style>\n",
              "\n",
              "      <script>\n",
              "        async function quickchart(key) {\n",
              "          const quickchartButtonEl =\n",
              "            document.querySelector('#' + key + ' button');\n",
              "          quickchartButtonEl.disabled = true;  // To prevent multiple clicks.\n",
              "          quickchartButtonEl.classList.add('colab-df-spinner');\n",
              "          try {\n",
              "            const charts = await google.colab.kernel.invokeFunction(\n",
              "                'suggestCharts', [key], {});\n",
              "          } catch (error) {\n",
              "            console.error('Error during call to suggestCharts:', error);\n",
              "          }\n",
              "          quickchartButtonEl.classList.remove('colab-df-spinner');\n",
              "          quickchartButtonEl.classList.add('colab-df-quickchart-complete');\n",
              "        }\n",
              "        (() => {\n",
              "          let quickchartButtonEl =\n",
              "            document.querySelector('#df-1bf4940f-1fb2-4855-8b09-e3540746db2c button');\n",
              "          quickchartButtonEl.style.display =\n",
              "            google.colab.kernel.accessAllowed ? 'block' : 'none';\n",
              "        })();\n",
              "      </script>\n",
              "    </div>\n",
              "\n",
              "    </div>\n",
              "  </div>\n"
            ],
            "application/vnd.google.colaboratory.intrinsic+json": {
              "type": "dataframe",
              "summary": "{\n  \"name\": \"data\",\n  \"rows\": 8,\n  \"fields\": [\n    {\n      \"column\": \"store\",\n      \"properties\": {\n        \"dtype\": \"number\",\n        \"std\": 322792.43380080425,\n        \"min\": 1.0,\n        \"max\": 913000.0,\n        \"num_unique_values\": 7,\n        \"samples\": [\n          913000.0,\n          5.5,\n          8.0\n        ],\n        \"semantic_type\": \"\",\n        \"description\": \"\"\n      }\n    },\n    {\n      \"column\": \"item\",\n      \"properties\": {\n        \"dtype\": \"number\",\n        \"std\": 322785.7894333556,\n        \"min\": 1.0,\n        \"max\": 913000.0,\n        \"num_unique_values\": 7,\n        \"samples\": [\n          913000.0,\n          25.5,\n          38.0\n        ],\n        \"semantic_type\": \"\",\n        \"description\": \"\"\n      }\n    },\n    {\n      \"column\": \"sales\",\n      \"properties\": {\n        \"dtype\": \"number\",\n        \"std\": 322771.06771995174,\n        \"min\": 0.0,\n        \"max\": 913000.0,\n        \"num_unique_values\": 8,\n        \"samples\": [\n          52.250286966046005,\n          47.0,\n          913000.0\n        ],\n        \"semantic_type\": \"\",\n        \"description\": \"\"\n      }\n    }\n  ]\n}"
            }
          },
          "metadata": {},
          "execution_count": 41
        }
      ]
    },
    {
      "cell_type": "code",
      "source": [
        "# Check for missing values\n",
        "data.isnull().sum()"
      ],
      "metadata": {
        "colab": {
          "base_uri": "https://localhost:8080/",
          "height": 209
        },
        "id": "oARe41ZruGXL",
        "outputId": "e1864edd-d671-48b3-b39d-46ba340e2d4d"
      },
      "execution_count": 42,
      "outputs": [
        {
          "output_type": "execute_result",
          "data": {
            "text/plain": [
              "date     0\n",
              "store    0\n",
              "item     0\n",
              "sales    0\n",
              "dtype: int64"
            ],
            "text/html": [
              "<div>\n",
              "<style scoped>\n",
              "    .dataframe tbody tr th:only-of-type {\n",
              "        vertical-align: middle;\n",
              "    }\n",
              "\n",
              "    .dataframe tbody tr th {\n",
              "        vertical-align: top;\n",
              "    }\n",
              "\n",
              "    .dataframe thead th {\n",
              "        text-align: right;\n",
              "    }\n",
              "</style>\n",
              "<table border=\"1\" class=\"dataframe\">\n",
              "  <thead>\n",
              "    <tr style=\"text-align: right;\">\n",
              "      <th></th>\n",
              "      <th>0</th>\n",
              "    </tr>\n",
              "  </thead>\n",
              "  <tbody>\n",
              "    <tr>\n",
              "      <th>date</th>\n",
              "      <td>0</td>\n",
              "    </tr>\n",
              "    <tr>\n",
              "      <th>store</th>\n",
              "      <td>0</td>\n",
              "    </tr>\n",
              "    <tr>\n",
              "      <th>item</th>\n",
              "      <td>0</td>\n",
              "    </tr>\n",
              "    <tr>\n",
              "      <th>sales</th>\n",
              "      <td>0</td>\n",
              "    </tr>\n",
              "  </tbody>\n",
              "</table>\n",
              "</div><br><label><b>dtype:</b> int64</label>"
            ]
          },
          "metadata": {},
          "execution_count": 42
        }
      ]
    },
    {
      "cell_type": "code",
      "source": [
        "# Create a dictionary of medians for existing numeric columns\n",
        "medians = {col: data[col].median() for col in ['store', 'item', 'sales'] if col in data.columns}"
      ],
      "metadata": {
        "id": "jCfiU9aruJB_"
      },
      "execution_count": 43,
      "outputs": []
    },
    {
      "cell_type": "code",
      "source": [
        "# Fill numeric columns with median\n",
        "numeric_cols = data.select_dtypes(include=['number']).columns\n",
        "for col in numeric_cols:\n",
        "    data[col] = data[col].fillna(data[col].median())"
      ],
      "metadata": {
        "id": "P2KMWc8IuL4L"
      },
      "execution_count": 44,
      "outputs": []
    },
    {
      "cell_type": "code",
      "source": [
        "# Fill categorical columns with mode\n",
        "categorical_cols = data.select_dtypes(exclude=['number']).columns\n",
        "for col in categorical_cols:\n",
        "    if not data[col].mode().empty:  # Check if mode exists\n",
        "        data[col] = data[col].fillna(data[col].mode()[0])"
      ],
      "metadata": {
        "id": "6ZDE4CtLwiAG"
      },
      "execution_count": 45,
      "outputs": []
    },
    {
      "cell_type": "code",
      "source": [
        "# Plotting boxplots to detect outliers in the 'sales' column\n",
        "if 'sales' in data.columns:\n",
        "    plt.figure(figsize=(10, 6))\n",
        "    sns.boxplot(x=data['sales'])\n",
        "    plt.title('Boxplot of Sales')\n",
        "    plt.xlabel('Sales')\n",
        "    plt.show()\n",
        "else:\n",
        "    print(\"Column 'sales' not found in dataset. Skipping boxplot.\")\n"
      ],
      "metadata": {
        "colab": {
          "base_uri": "https://localhost:8080/",
          "height": 564
        },
        "id": "KTmteBE_wlY6",
        "outputId": "07f0d03c-2cb1-49d0-d8eb-e8cd13ba9194"
      },
      "execution_count": 46,
      "outputs": [
        {
          "output_type": "display_data",
          "data": {
            "text/plain": [
              "<Figure size 1000x600 with 1 Axes>"
            ],
            "image/png": "[encoded data removed]"
          },
          "metadata": {}
        }
      ]
    },
    {
      "cell_type": "code",
      "source": [
        "# ✅ Outlier detection & removal for 'sales' with confirmation steps\n",
        "if 'sales' in data.columns:\n",
        "    # 1. Plot boxplot BEFORE removal\n",
        "    plt.figure(figsize=(10, 5))\n",
        "    sns.boxplot(x=data['sales'])\n",
        "    plt.title('Boxplot of Sales (Before Outlier Removal)')\n",
        "    plt.show()\n",
        "\n",
        "    # Store stats before\n",
        "    print(\"\\nSales statistics BEFORE removal:\")\n",
        "    print(data['sales'].describe())\n",
        "\n",
        "    # 2. Calculate IQR and filter\n",
        "    Q1 = data['sales'].quantile(0.25)\n",
        "    Q3 = data['sales'].quantile(0.75)\n",
        "    IQR = Q3 - Q1\n",
        "    lower_bound = Q1 - 1.5 * IQR\n",
        "    upper_bound = Q3 + 1.5 * IQR\n",
        "\n",
        "    before = len(data)\n",
        "    data = data[(data['sales'] >= lower_bound) & (data['sales'] <= upper_bound)]\n",
        "    after = len(data)\n",
        "\n",
        "    print(f\"\\nRows before: {before}, Rows after: {after}, Outliers removed: {before - after}\")\n",
        "\n",
        "    # 3. Plot boxplot AFTER removal\n",
        "    plt.figure(figsize=(10, 5))\n",
        "    sns.boxplot(x=data['sales'])\n",
        "    plt.title('Boxplot of Sales (After Outlier Removal)')\n",
        "    plt.show()\n",
        "\n",
        "    # Store stats after\n",
        "    print(\"\\nSales statistics AFTER removal:\")\n",
        "    print(data['sales'].describe())\n",
        "\n",
        "else:\n",
        "    print(\"Column 'sales' not found. Skipping outlier removal.\")\n"
      ],
      "metadata": {
        "colab": {
          "base_uri": "https://localhost:8080/",
          "height": 1000
        },
        "id": "OA2VkPuMxLZn",
        "outputId": "7165d49c-2675-42e4-965a-ca67d106ed0e"
      },
      "execution_count": 47,
      "outputs": [
        {
          "output_type": "display_data",
          "data": {
            "text/plain": [
              "<Figure size 1000x500 with 1 Axes>"
            ],
            "image/png": "[encoded data removed]"
          },
          "metadata": {}
        },
        {
          "output_type": "stream",
          "name": "stdout",
          "text": [
            "\n",
            "Sales statistics BEFORE removal:\n",
            "count    913000.000000\n",
            "mean         52.250287\n",
            "std          28.801144\n",
            "min           0.000000\n",
            "25%          30.000000\n",
            "50%          47.000000\n",
            "75%          70.000000\n",
            "max         231.000000\n",
            "Name: sales, dtype: float64\n",
            "\n",
            "Rows before: 913000, Rows after: 901033, Outliers removed: 11967\n"
          ]
        },
        {
          "output_type": "display_data",
          "data": {
            "text/plain": [
              "<Figure size 1000x500 with 1 Axes>"
            ],
            "image/png": "[encoded data removed]"
          },
          "metadata": {}
        },
        {
          "output_type": "stream",
          "name": "stdout",
          "text": [
            "\n",
            "Sales statistics AFTER removal:\n",
            "count    901033.000000\n",
            "mean         51.032028\n",
            "std          26.932926\n",
            "min           0.000000\n",
            "25%          29.000000\n",
            "50%          46.000000\n",
            "75%          68.000000\n",
            "max         130.000000\n",
            "Name: sales, dtype: float64\n"
          ]
        }
      ]
    },
    {
      "cell_type": "code",
      "source": [
        "# sales data is now cleaner and less influenced by extreme outliers"
      ],
      "metadata": {
        "id": "DtdDAKlBxWWR"
      },
      "execution_count": 48,
      "outputs": []
    },
    {
      "cell_type": "code",
      "source": [
        "# ✅ Feature extraction only if date columns exist\n",
        "date_cols = ['Order Date', 'Ship Date']\n",
        "for col in date_cols:\n",
        "    if col in data.columns:\n",
        "        data[col] = pd.to_datetime(data[col], errors='coerce')\n",
        "    else:\n",
        "        print(f\"Column '{col}' not found. Skipping feature creation for this column.\")\n",
        "\n",
        "# Create new features only for columns that exist\n",
        "if all(c in data.columns for c in date_cols):\n",
        "    data['Order Year'] = data['Order Date'].dt.year\n",
        "    data['Order Month'] = data['Order Date'].dt.month\n",
        "    data['Order Day'] = data['Order Date'].dt.day\n",
        "\n",
        "    data['Ship Year'] = data['Ship Date'].dt.year\n",
        "    data['Ship Month'] = data['Ship Date'].dt.month\n",
        "    data['Ship Day'] = data['Ship Date'].dt.day\n"
      ],
      "metadata": {
        "colab": {
          "base_uri": "https://localhost:8080/"
        },
        "id": "cifwmfClzEAn",
        "outputId": "a1113947-47d0-40bb-9745-979fef11527b"
      },
      "execution_count": 50,
      "outputs": [
        {
          "output_type": "stream",
          "name": "stdout",
          "text": [
            "Column 'Order Date' not found. Skipping feature creation for this column.\n",
            "Column 'Ship Date' not found. Skipping feature creation for this column.\n"
          ]
        }
      ]
    },
    {
      "cell_type": "code",
      "source": [
        "# Convert Categorical Variables into Dummy Variables\n",
        "data = pd.get_dummies(data, drop_first=True)\n",
        "\n",
        "# Scale Numeric Columns\n",
        "from sklearn.preprocessing import StandardScaler\n",
        "numeric_columns = data.select_dtypes(include=['float64', 'int64']).columns\n",
        "scaler = StandardScaler()\n",
        "data[numeric_columns] = scaler.fit_transform(data[numeric_columns])\n",
        "\n",
        "# Verify Transformations\n",
        "print(\"\\n✅ First few rows after preprocessing:\")\n",
        "print(data.head())\n",
        "\n",
        "print(\"\\n✅ Missing values check after processing:\")\n",
        "print(data.isnull().sum())"
      ],
      "metadata": {
        "colab": {
          "base_uri": "https://localhost:8080/"
        },
        "id": "zSO92EBZzX0Y",
        "outputId": "79e00178-d2ec-4a8f-bc8f-acf0079b5eae"
      },
      "execution_count": 94,
      "outputs": [
        {
          "output_type": "stream",
          "name": "stdout",
          "text": [
            "\n",
            "✅ First few rows after preprocessing:\n",
            "      store      item     sales  date_2013-01-02  date_2013-01-03  \\\n",
            "0 -1.570605 -1.694939 -1.412102            False            False   \n",
            "1 -1.570605 -1.694939 -1.486361             True            False   \n",
            "2 -1.570605 -1.694939 -1.374973            False             True   \n",
            "3 -1.570605 -1.694939 -1.412102            False            False   \n",
            "4 -1.570605 -1.694939 -1.523490            False            False   \n",
            "\n",
            "   date_2013-01-04  date_2013-01-05  date_2013-01-06  date_2013-01-07  \\\n",
            "0            False            False            False            False   \n",
            "1            False            False            False            False   \n",
            "2            False            False            False            False   \n",
            "3             True            False            False            False   \n",
            "4            False             True            False            False   \n",
            "\n",
            "   date_2013-01-08  ...  date_2017-12-22  date_2017-12-23  date_2017-12-24  \\\n",
            "0            False  ...            False            False            False   \n",
            "1            False  ...            False            False            False   \n",
            "2            False  ...            False            False            False   \n",
            "3            False  ...            False            False            False   \n",
            "4            False  ...            False            False            False   \n",
            "\n",
            "   date_2017-12-25  date_2017-12-26  date_2017-12-27  date_2017-12-28  \\\n",
            "0            False            False            False            False   \n",
            "1            False            False            False            False   \n",
            "2            False            False            False            False   \n",
            "3            False            False            False            False   \n",
            "4            False            False            False            False   \n",
            "\n",
            "   date_2017-12-29  date_2017-12-30  date_2017-12-31  \n",
            "0            False            False            False  \n",
            "1            False            False            False  \n",
            "2            False            False            False  \n",
            "3            False            False            False  \n",
            "4            False            False            False  \n",
            "\n",
            "[5 rows x 1828 columns]\n",
            "\n",
            "✅ Missing values check after processing:\n",
            "store              0\n",
            "item               0\n",
            "sales              0\n",
            "date_2013-01-02    0\n",
            "date_2013-01-03    0\n",
            "                  ..\n",
            "date_2017-12-27    0\n",
            "date_2017-12-28    0\n",
            "date_2017-12-29    0\n",
            "date_2017-12-30    0\n",
            "date_2017-12-31    0\n",
            "Length: 1828, dtype: int64\n"
          ]
        }
      ]
    },
    {
      "cell_type": "code",
      "source": [
        "import os\n",
        "print(os.listdir())"
      ],
      "metadata": {
        "colab": {
          "base_uri": "https://localhost:8080/"
        },
        "id": "IjN7-M9f4bp5",
        "outputId": "985ce6d3-6d1a-4012-e9dc-75f02ddb6bc0"
      },
      "execution_count": 95,
      "outputs": [
        {
          "output_type": "stream",
          "name": "stdout",
          "text": [
            "['.config', 'preprocessed_retail_sales_data.csv', 'drive', 'organizations-100.csv', 'cleaned_customers.csv', 'customers-100.csv', 'people-100.csv', 'train.csv', 'cleaned_organizations.csv', 'sample_data']\n"
          ]
        }
      ]
    },
    {
      "cell_type": "code",
      "source": [
        "# Create a smaller sample (10,000 rows) to upload quickly\n",
        "sample_data = data.sample(n=10000, random_state=42)\n",
        "sample_data.to_csv(\"cleaned_retail_sales_sample.csv\", index=False)"
      ],
      "metadata": {
        "id": "kCKoD-CV4hmn"
      },
      "execution_count": 96,
      "outputs": []
    },
    {
      "cell_type": "code",
      "source": [
        "# Create a smaller sample of 5,000 rows\n",
        "smaller_sample = data.sample(n=5000, random_state=42)\n",
        "smaller_sample.to_csv(\"cleaned_retail_sales_small_sample.csv\", index=False)"
      ],
      "metadata": {
        "id": "P4QMTaWjT4WA"
      },
      "execution_count": 97,
      "outputs": []
    },
    {
      "cell_type": "code",
      "source": [
        "smaller_sample.to_csv(\"cleaned_retail_sales_small_sample.csv\", index=False)\n",
        "import zipfile\n",
        "\n",
        "with zipfile.ZipFile(\"cleaned_retail_sales_small_sample.zip\", \"w\", zipfile.ZIP_DEFLATED) as z:\n",
        "    z.write(\"cleaned_retail_sales_small_sample.csv\")\n"
      ],
      "metadata": {
        "id": "GSqAeDoNUh9c"
      },
      "execution_count": 98,
      "outputs": []
    },
    {
      "cell_type": "markdown",
      "source": [
        "## Spotify Streaming History\n",
        "Description: 149k+ music logs with timestamp errors, missing track IDs, and inconsistent artist names."
      ],
      "metadata": {
        "id": "Sffm-Z1AVlC6"
      }
    },
    {
      "cell_type": "code",
      "source": [
        "# starting with the data ingestion process"
      ],
      "metadata": {
        "id": "FircLKiXV8oa"
      },
      "execution_count": 114,
      "outputs": []
    },
    {
      "cell_type": "code",
      "source": [
        "import pandas as pd\n",
        "\n",
        "# Load the Spotify history dataset\n",
        "df = pd.read_csv(\"spotify_history.csv\")\n",
        "\n",
        "# Initial sanity checks\n",
        "print(df.shape)\n",
        "print(df.info())\n",
        "print(df.head())"
      ],
      "metadata": {
        "colab": {
          "base_uri": "https://localhost:8080/"
        },
        "id": "2RReZS5_itvT",
        "outputId": "7c51f2bd-21b4-4021-bb94-044d73274cf4"
      },
      "execution_count": 115,
      "outputs": [
        {
          "output_type": "stream",
          "name": "stdout",
          "text": [
            "(149860, 11)\n",
            "<class 'pandas.core.frame.DataFrame'>\n",
            "RangeIndex: 149860 entries, 0 to 149859\n",
            "Data columns (total 11 columns):\n",
            " #   Column             Non-Null Count   Dtype \n",
            "---  ------             --------------   ----- \n",
            " 0   spotify_track_uri  149860 non-null  object\n",
            " 1   ts                 149860 non-null  object\n",
            " 2   platform           149860 non-null  object\n",
            " 3   ms_played          149860 non-null  int64 \n",
            " 4   track_name         149860 non-null  object\n",
            " 5   artist_name        149860 non-null  object\n",
            " 6   album_name         149860 non-null  object\n",
            " 7   reason_start       149717 non-null  object\n",
            " 8   reason_end         149743 non-null  object\n",
            " 9   shuffle            149860 non-null  bool  \n",
            " 10  skipped            149860 non-null  bool  \n",
            "dtypes: bool(2), int64(1), object(8)\n",
            "memory usage: 10.6+ MB\n",
            "None\n",
            "        spotify_track_uri                   ts    platform  ms_played  \\\n",
            "0  2J3n32GeLmMjwuAzyhcSNe  2013-07-08 02:44:34  web player       3185   \n",
            "1  1oHxIPqJyvAYHy0PVrDU98  2013-07-08 02:45:37  web player      61865   \n",
            "2  487OPlneJNni3NWC8SYqhW  2013-07-08 02:50:24  web player     285386   \n",
            "3  5IyblF777jLZj1vGHG2UD3  2013-07-08 02:52:40  web player     134022   \n",
            "4  0GgAAB0ZMllFhbNc3mAodO  2013-07-08 03:17:52  web player          0   \n",
            "\n",
            "                                      track_name        artist_name  \\\n",
            "0                            Say It, Just Say It       The Mowgli's   \n",
            "1  Drinking from the Bottle (feat. Tinie Tempah)      Calvin Harris   \n",
            "2                                    Born To Die       Lana Del Rey   \n",
            "3                               Off To The Races       Lana Del Rey   \n",
            "4                                      Half Mast  Empire Of The Sun   \n",
            "\n",
            "                           album_name reason_start reason_end  shuffle  \\\n",
            "0                Waiting For The Dawn     autoplay   clickrow    False   \n",
            "1                           18 Months     clickrow   clickrow    False   \n",
            "2  Born To Die - The Paradise Edition     clickrow    unknown    False   \n",
            "3  Born To Die - The Paradise Edition    trackdone   clickrow    False   \n",
            "4                  Walking On A Dream     clickrow    nextbtn    False   \n",
            "\n",
            "   skipped  \n",
            "0    False  \n",
            "1    False  \n",
            "2    False  \n",
            "3    False  \n",
            "4    False  \n"
          ]
        }
      ]
    },
    {
      "cell_type": "code",
      "source": [
        "# de-duplication\n",
        "# Remove duplicate rows if any\n",
        "df = df.drop_duplicates()\n",
        "\n",
        "# Optional: Check for duplicate track IDs (spotify_track_uri)\n",
        "print(df[\"spotify_track_uri\"].duplicated().sum())"
      ],
      "metadata": {
        "colab": {
          "base_uri": "https://localhost:8080/"
        },
        "id": "E4Lx_MM9i1Ee",
        "outputId": "278b90e7-58f9-4700-ce5e-23411c94aa9d"
      },
      "execution_count": 116,
      "outputs": [
        {
          "output_type": "stream",
          "name": "stdout",
          "text": [
            "132148\n"
          ]
        }
      ]
    },
    {
      "cell_type": "code",
      "source": [
        "print(\"\\nSample row before modification:\")\n",
        "print(df.iloc[0])"
      ],
      "metadata": {
        "colab": {
          "base_uri": "https://localhost:8080/"
        },
        "id": "Rn27r0O7kxxV",
        "outputId": "ed95a5e2-a977-47b5-a009-13b8058e347b"
      },
      "execution_count": 117,
      "outputs": [
        {
          "output_type": "stream",
          "name": "stdout",
          "text": [
            "\n",
            "Sample row before modification:\n",
            "spotify_track_uri    2J3n32GeLmMjwuAzyhcSNe\n",
            "ts                      2013-07-08 02:44:34\n",
            "platform                         web player\n",
            "ms_played                              3185\n",
            "track_name              Say It, Just Say It\n",
            "artist_name                    The Mowgli's\n",
            "album_name             Waiting For The Dawn\n",
            "reason_start                       autoplay\n",
            "reason_end                         clickrow\n",
            "shuffle                               False\n",
            "skipped                               False\n",
            "Name: 0, dtype: object\n"
          ]
        }
      ]
    },
    {
      "cell_type": "code",
      "source": [
        "# Column management\n",
        "# Drop irrelevant or redundant columns if not needed for analysis\n",
        "# (Assume 'platform' might be dropped if it’s the same throughout)\n",
        "df = df.drop(columns=[\"platform\"])  # Only if platform is not useful\n",
        "\n",
        "# Rename columns for clarity\n",
        "df.rename(columns={\n",
        "    \"spotify_track_uri\": \"track_uri\",\n",
        "    \"ms_played\": \"play_duration_ms\",\n",
        "    \"track_name\": \"track\",\n",
        "    \"artist_name\": \"artist\",\n",
        "    \"album_name\": \"album\",\n",
        "    \"reason_start\": \"start_reason\",\n",
        "    \"reason_end\": \"end_reason\"\n",
        "}, inplace=True)\n",
        "\n",
        "# Reorder if necessary\n",
        "df = df[[\n",
        "    \"track_uri\", \"track\", \"artist\", \"album\", \"play_duration_ms\", \"start_reason\",\n",
        "    \"end_reason\", \"shuffle\", \"skipped\"\n",
        "]]"
      ],
      "metadata": {
        "id": "WfltXqSxi93Y"
      },
      "execution_count": 118,
      "outputs": []
    },
    {
      "cell_type": "code",
      "source": [
        "# how did the modification changed the data?:\n",
        "print(\"\\nAfter Column Management:\")\n",
        "print(\"Columns after renaming and reordering:\")\n",
        "print(df.columns.tolist())\n",
        "\n",
        "print(\"\\nSample row after modification:\")\n",
        "print(df.iloc[0])"
      ],
      "metadata": {
        "colab": {
          "base_uri": "https://localhost:8080/"
        },
        "id": "b-9OJLqqky_Z",
        "outputId": "dcfd7482-3164-4127-9635-074f7243a854"
      },
      "execution_count": 119,
      "outputs": [
        {
          "output_type": "stream",
          "name": "stdout",
          "text": [
            "\n",
            "After Column Management:\n",
            "Columns after renaming and reordering:\n",
            "['track_uri', 'track', 'artist', 'album', 'play_duration_ms', 'start_reason', 'end_reason', 'shuffle', 'skipped']\n",
            "\n",
            "Sample row after modification:\n",
            "track_uri           2J3n32GeLmMjwuAzyhcSNe\n",
            "track                  Say It, Just Say It\n",
            "artist                        The Mowgli's\n",
            "album                 Waiting For The Dawn\n",
            "play_duration_ms                      3185\n",
            "start_reason                      autoplay\n",
            "end_reason                        clickrow\n",
            "shuffle                              False\n",
            "skipped                              False\n",
            "Name: 0, dtype: object\n"
          ]
        }
      ]
    },
    {
      "cell_type": "code",
      "source": [
        "# Check missing values\n",
        "print(df.isna().sum())\n",
        "\n",
        "# Drop rows where essential fields are missing\n",
        "df = df.dropna(subset=[\"track_uri\", \"track\"])\n",
        "\n",
        "# Fill missing artist and album with 'Unknown'\n",
        "df[\"artist\"] = df[\"artist\"].fillna(\"Unknown\")\n",
        "df[\"album\"] = df[\"album\"].fillna(\"Unknown\")\n",
        "\n",
        "# Fill missing duration with 0\n",
        "df[\"play_duration_ms\"] = df[\"play_duration_ms\"].fillna(0)"
      ],
      "metadata": {
        "colab": {
          "base_uri": "https://localhost:8080/"
        },
        "id": "-R8uySixjHzU",
        "outputId": "1bbc1c4b-a6b5-43e7-f8b1-1bce4e34f8d6"
      },
      "execution_count": 120,
      "outputs": [
        {
          "output_type": "stream",
          "name": "stdout",
          "text": [
            "track_uri             0\n",
            "track                 0\n",
            "artist                0\n",
            "album                 0\n",
            "play_duration_ms      0\n",
            "start_reason        143\n",
            "end_reason          117\n",
            "shuffle               0\n",
            "skipped               0\n",
            "dtype: int64\n"
          ]
        }
      ]
    },
    {
      "cell_type": "code",
      "source": [
        "# Handling missing values\n",
        "df[\"start_reason\"] = df[\"start_reason\"].fillna(\"unknown\")\n",
        "df[\"end_reason\"] = df[\"end_reason\"].fillna(\"unknown\")"
      ],
      "metadata": {
        "id": "pHFTPPtpkbhu"
      },
      "execution_count": 121,
      "outputs": []
    },
    {
      "cell_type": "code",
      "source": [
        "# Data Type Correction\n",
        "\n",
        "# Convert 'shuffle' and 'skipped' to boolean\n",
        "df[\"shuffle\"] = df[\"shuffle\"].astype(bool)\n",
        "df[\"skipped\"] = df[\"skipped\"].astype(bool)\n",
        "\n",
        "# Ensure 'play_duration_ms' is numeric\n",
        "df[\"play_duration_ms\"] = pd.to_numeric(df[\"play_duration_ms\"], errors=\"coerce\")\n",
        "\n",
        "# Optional: Convert play duration to minutes\n",
        "df[\"play_duration_min\"] = df[\"play_duration_ms\"] / 60000\n",
        "\n",
        "# If a timestamp column like 'ts' exists, convert to datetime\n",
        "if \"ts\" in df.columns:\n",
        "    df[\"ts\"] = pd.to_datetime(df[\"ts\"], errors=\"coerce\")\n",
        "\n",
        "# Confirm data types (optional)\n",
        "print(\"\\nUpdated Data Types:\")\n",
        "print(df.dtypes)\n"
      ],
      "metadata": {
        "colab": {
          "base_uri": "https://localhost:8080/"
        },
        "id": "UerQ02iklZV9",
        "outputId": "fa3ba0b4-e405-45e2-85ed-81fd6238a178"
      },
      "execution_count": 122,
      "outputs": [
        {
          "output_type": "stream",
          "name": "stdout",
          "text": [
            "\n",
            "Updated Data Types:\n",
            "track_uri             object\n",
            "track                 object\n",
            "artist                object\n",
            "album                 object\n",
            "play_duration_ms       int64\n",
            "start_reason          object\n",
            "end_reason            object\n",
            "shuffle                 bool\n",
            "skipped                 bool\n",
            "play_duration_min    float64\n",
            "dtype: object\n"
          ]
        }
      ]
    },
    {
      "cell_type": "code",
      "source": [
        "# Format Standardization\n",
        "\n",
        "# Standardize text columns: lowercase + strip whitespace\n",
        "df[\"track\"] = df[\"track\"].str.lower().str.strip()\n",
        "df[\"artist\"] = df[\"artist\"].str.lower().str.strip()\n",
        "df[\"album\"] = df[\"album\"].str.lower().str.strip()\n",
        "df[\"start_reason\"] = df[\"start_reason\"].str.lower().str.strip()\n",
        "df[\"end_reason\"] = df[\"end_reason\"].str.lower().str.strip()\n",
        "\n",
        "# Optional: Check unique values in categorical fields to spot inconsistencies\n",
        "print(\"\\nUnique start reasons:\", df[\"start_reason\"].unique())\n",
        "print(\"Unique end reasons:\", df[\"end_reason\"].unique())"
      ],
      "metadata": {
        "colab": {
          "base_uri": "https://localhost:8080/"
        },
        "id": "dX7coSSspAyL",
        "outputId": "25e86dad-88f5-41ef-dab1-2acaee6b842c"
      },
      "execution_count": 124,
      "outputs": [
        {
          "output_type": "stream",
          "name": "stdout",
          "text": [
            "\n",
            "Unique start reasons: ['autoplay' 'clickrow' 'trackdone' 'nextbtn' 'backbtn' 'unknown' 'popup'\n",
            " 'appload' 'fwdbtn' 'trackerror' 'remote' 'endplay' 'playbtn']\n",
            "Unique end reasons: ['clickrow' 'unknown' 'nextbtn' 'trackdone' 'backbtn' 'reload' 'popup'\n",
            " 'endplay' 'fwdbtn' 'appload' 'unexpected-exit-while-paused'\n",
            " 'unexpected-exit' 'logout' 'remote' 'trackerror']\n"
          ]
        }
      ]
    },
    {
      "cell_type": "code",
      "source": [
        "# Group similar start reasons\n",
        "df[\"start_reason\"] = df[\"start_reason\"].replace({\n",
        "    \"clickrow\": \"manual\",\n",
        "    \"playbtn\": \"manual\",\n",
        "    \"nextbtn\": \"navigation\",\n",
        "    \"backbtn\": \"navigation\",\n",
        "    \"fwdbtn\": \"navigation\",\n",
        "    \"autoplay\": \"autoplay\",\n",
        "    \"trackdone\": \"autoplay\",\n",
        "    \"popup\": \"system\",\n",
        "    \"appload\": \"system\",\n",
        "    \"remote\": \"system\",\n",
        "    \"trackerror\": \"system\",\n",
        "    \"endplay\": \"system\",\n",
        "    \"unknown\": \"unknown\"\n",
        "})\n",
        "\n",
        "# Group similar end reasons\n",
        "df[\"end_reason\"] = df[\"end_reason\"].replace({\n",
        "    \"clickrow\": \"manual\",\n",
        "    \"nextbtn\": \"navigation\",\n",
        "    \"backbtn\": \"navigation\",\n",
        "    \"fwdbtn\": \"navigation\",\n",
        "    \"trackdone\": \"natural_end\",\n",
        "    \"endplay\": \"natural_end\",\n",
        "    \"unexpected-exit\": \"system\",\n",
        "    \"unexpected-exit-while-paused\": \"system\",\n",
        "    \"logout\": \"system\",\n",
        "    \"reload\": \"system\",\n",
        "    \"popup\": \"system\",\n",
        "    \"appload\": \"system\",\n",
        "    \"remote\": \"system\",\n",
        "    \"trackerror\": \"system\",\n",
        "    \"unknown\": \"unknown\"\n",
        "})"
      ],
      "metadata": {
        "id": "HSYdUt9JpFas"
      },
      "execution_count": 126,
      "outputs": []
    },
    {
      "cell_type": "code",
      "source": [
        "# Save cleaned dataset\n",
        "df.to_csv(\"spotify_cleaned.csv\", index=False)"
      ],
      "metadata": {
        "id": "fUA_gFUppPlS"
      },
      "execution_count": 127,
      "outputs": []
    },
    {
      "cell_type": "code",
      "source": [],
      "metadata": {
        "id": "2KxNM2jyphGh"
      },
      "execution_count": null,
      "outputs": []
    }
  ]
}